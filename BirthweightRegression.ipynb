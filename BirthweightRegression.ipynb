{
 "cells": [
  {
   "cell_type": "markdown",
   "metadata": {},
   "source": [
    "# Illustration of datascience Tables for multivariate analysis\n",
    "\n",
    "**David E. Culler**\n",
    "\n",
    "This notebook illustrates some of the use of datascience Tables to perform regressions on multiple variables. In doing so, it shows some of the elegant ways that computational concepts and statistical concepts naturally fit together."
   ]
  },
  {
   "cell_type": "code",
   "execution_count": 3,
   "metadata": {
    "collapsed": true
   },
   "outputs": [],
   "source": [
    "# HIDDEN\n",
    "from datascience import *\n",
    "%matplotlib inline\n",
    "import numpy as np\n",
    "import matplotlib.pyplot as plots\n",
    "plots.style.use('fivethirtyeight')"
   ]
  },
  {
   "cell_type": "markdown",
   "metadata": {},
   "source": [
    "## Read data from a local or remote csv file to create a Table"
   ]
  },
  {
   "cell_type": "code",
   "execution_count": 4,
   "metadata": {
    "collapsed": false
   },
   "outputs": [
    {
     "data": {
      "text/html": [
       "<table border=\"1\" class=\"dataframe\">\n",
       "    <thead>\n",
       "        <tr>\n",
       "            <th>Wgt</th> <th>Gest</th> <th>Smoke</th>\n",
       "        </tr>\n",
       "    </thead>\n",
       "    <tbody>\n",
       "        <tr>\n",
       "            <td>2940</td> <td>38  </td> <td>1    </td>\n",
       "        </tr>\n",
       "    </tbody>\n",
       "        <tr>\n",
       "            <td>3130</td> <td>38  </td> <td>0    </td>\n",
       "        </tr>\n",
       "    </tbody>\n",
       "        <tr>\n",
       "            <td>2420</td> <td>36  </td> <td>1    </td>\n",
       "        </tr>\n",
       "    </tbody>\n",
       "        <tr>\n",
       "            <td>2450</td> <td>34  </td> <td>0    </td>\n",
       "        </tr>\n",
       "    </tbody>\n",
       "        <tr>\n",
       "            <td>2760</td> <td>39  </td> <td>1    </td>\n",
       "        </tr>\n",
       "    </tbody>\n",
       "        <tr>\n",
       "            <td>2440</td> <td>35  </td> <td>1    </td>\n",
       "        </tr>\n",
       "    </tbody>\n",
       "        <tr>\n",
       "            <td>3226</td> <td>40  </td> <td>0    </td>\n",
       "        </tr>\n",
       "    </tbody>\n",
       "        <tr>\n",
       "            <td>3301</td> <td>42  </td> <td>1    </td>\n",
       "        </tr>\n",
       "    </tbody>\n",
       "        <tr>\n",
       "            <td>2729</td> <td>37  </td> <td>0    </td>\n",
       "        </tr>\n",
       "    </tbody>\n",
       "        <tr>\n",
       "            <td>3410</td> <td>40  </td> <td>0    </td>\n",
       "        </tr>\n",
       "    </tbody>\n",
       "</table>\n",
       "<p>... (22 rows omitted)</p"
      ],
      "text/plain": [
       "Wgt  | Gest | Smoke\n",
       "2940 | 38   | 1\n",
       "3130 | 38   | 0\n",
       "2420 | 36   | 1\n",
       "2450 | 34   | 0\n",
       "2760 | 39   | 1\n",
       "2440 | 35   | 1\n",
       "3226 | 40   | 0\n",
       "3301 | 42   | 1\n",
       "2729 | 37   | 0\n",
       "3410 | 40   | 0\n",
       "... (22 rows omitted)"
      ]
     },
     "execution_count": 4,
     "metadata": {},
     "output_type": "execute_result"
    }
   ],
   "source": [
    "# Source https://onlinecourses.science.psu.edu/stat501/node/380\n",
    "births=Table.read_table(\"data/birthsmokers.csv\")\n",
    "births"
   ]
  },
  {
   "cell_type": "markdown",
   "metadata": {},
   "source": [
    "## Looking at the raw data\n",
    "\n",
    "`Table.scatter` produces a scatter plot of columns versus a specific column.  Here we look at how birthweight varies with gestation. And we note whether the mother smoked."
   ]
  },
  {
   "cell_type": "code",
   "execution_count": 5,
   "metadata": {
    "collapsed": false
   },
   "outputs": [
    {
     "data": {
      "image/png": "[encoded data removed]",
      "text/plain": [
       "<matplotlib.figure.Figure at 0x102c25160>"
      ]
     },
     "metadata": {},
     "output_type": "display_data"
    }
   ],
   "source": [
    "# First let's just look at what is here.  This needs to be a scatter, rather\n",
    "# than a plot because there is no simple ordering - just relationships between\n",
    "# birthweight and gestation time along with whether the mother smokes.\n",
    "births.scatter('Gest')"
   ]
  },
  {
   "cell_type": "code",
   "execution_count": 6,
   "metadata": {
    "collapsed": false
   },
   "outputs": [
    {
     "data": {
      "text/plain": [
       "32"
      ]
     },
     "execution_count": 6,
     "metadata": {},
     "output_type": "execute_result"
    }
   ],
   "source": [
    "births.num_rows"
   ]
  },
  {
   "cell_type": "code",
   "execution_count": 7,
   "metadata": {
    "collapsed": false
   },
   "outputs": [
    {
     "data": {
      "text/plain": [
       "16"
      ]
     },
     "execution_count": 7,
     "metadata": {},
     "output_type": "execute_result"
    }
   ],
   "source": [
    "# How many samples in each category\n",
    "births.where('Smoke').num_rows"
   ]
  },
  {
   "cell_type": "markdown",
   "metadata": {},
   "source": [
    "## Fitting a line to the data on a scatter plot\n",
    "\n",
    "Here we drop the `smoke` column and look at the birthweight for the whole population."
   ]
  },
  {
   "cell_type": "code",
   "execution_count": 8,
   "metadata": {
    "collapsed": false
   },
   "outputs": [
    {
     "data": {
      "image/png": "[encoded data removed]",
      "text/plain": [
       "<matplotlib.figure.Figure at 0x1127bfef0>"
      ]
     },
     "metadata": {},
     "output_type": "display_data"
    }
   ],
   "source": [
    "# As there is a trend among birthweight and gestation, we can show a fit line to try to\n",
    "# capture it\n",
    "births.drop('Smoke').scatter('Gest', fit_line=True)"
   ]
  },
  {
   "cell_type": "markdown",
   "metadata": {},
   "source": [
    "## Partitioning data\n",
    "\n",
    "The question is whether smoking causes the trend to be substantially different.\n",
    "Split the data into two tables using the `Smoke` column.  Then we can find the trends for each."
   ]
  },
  {
   "cell_type": "code",
   "execution_count": 9,
   "metadata": {
    "collapsed": true
   },
   "outputs": [],
   "source": [
    "nosmoke=births.where('Smoke',0).drop('Smoke')\n",
    "smoke=births.where('Smoke',1).drop('Smoke')"
   ]
  },
  {
   "cell_type": "code",
   "execution_count": 10,
   "metadata": {
    "collapsed": false
   },
   "outputs": [
    {
     "data": {
      "image/png": "[encoded data removed]",
      "text/plain": [
       "<matplotlib.figure.Figure at 0x11282c160>"
      ]
     },
     "metadata": {},
     "output_type": "display_data"
    }
   ],
   "source": [
    "# we can attempt to find the trend for each\n",
    "nosmoke.scatter('Gest',fit_line=True)"
   ]
  },
  {
   "cell_type": "code",
   "execution_count": 11,
   "metadata": {
    "collapsed": false
   },
   "outputs": [
    {
     "data": {
      "image/png": "[encoded data removed]",
      "text/plain": [
       "<matplotlib.figure.Figure at 0x1129734a8>"
      ]
     },
     "metadata": {},
     "output_type": "display_data"
    }
   ],
   "source": [
    "smoke.scatter('Gest',fit_line=True, marker='x')"
   ]
  },
  {
   "cell_type": "markdown",
   "metadata": {},
   "source": [
    "## Build a model by fitting a line to data in a Table\n",
    "\n",
    "Selecting a column of a Table yields a numpy array, allowing the numpy numerical\n",
    "tools to be used for fitting curves to the data.  For documentation on the `polyfit` \n",
    "function, try `help(np.polyfit)`.  It returns the polynomial coefficients, highest power first, which is the slope for a line.\n",
    "\n",
    "A linear model is only meaningful in the range around the normal gestation period,\n",
    "and indeed the intercept is not physcially meaningful"
   ]
  },
  {
   "cell_type": "code",
   "execution_count": 12,
   "metadata": {
    "collapsed": false
   },
   "outputs": [
    {
     "data": {
      "text/plain": [
       "array([  147.20689655, -2546.13793103])"
      ]
     },
     "execution_count": 12,
     "metadata": {},
     "output_type": "execute_result"
    }
   ],
   "source": [
    "# what is the coeeficients of the line fitted to these data?\n",
    "\n",
    "np.polyfit(nosmoke['Gest'],nosmoke['Wgt'],1)"
   ]
  },
  {
   "cell_type": "code",
   "execution_count": 13,
   "metadata": {
    "collapsed": false
   },
   "outputs": [
    {
     "data": {
      "text/plain": [
       "array([  139.02874903, -2474.56410256])"
      ]
     },
     "execution_count": 13,
     "metadata": {},
     "output_type": "execute_result"
    }
   ],
   "source": [
    "np.polyfit(smoke['Gest'],smoke['Wgt'],1)"
   ]
  },
  {
   "cell_type": "markdown",
   "metadata": {},
   "source": [
    "We see that both the constant and the weight increase per week is lower for the smokers."
   ]
  },
  {
   "cell_type": "markdown",
   "metadata": {},
   "source": [
    "## Higher order functions as models\n",
    "\n",
    "At this point, we could do mx+b all over the place, or we could utilize **higher order functions** to capture the concept of a model.  Here is an example, building such a model directly from the data.  It takes the set of `x` and `y` values and returns a function\n",
    "that evaluates the model built from that data at a particular `x`."
   ]
  },
  {
   "cell_type": "code",
   "execution_count": 14,
   "metadata": {
    "collapsed": true
   },
   "outputs": [],
   "source": [
    "# Build a linear model from data and return it is a function\n",
    "def make_lm(x, y):\n",
    "    m,b = np.polyfit(x, y, 1)\n",
    "    def lm(a):\n",
    "        return m*a+b\n",
    "    return lm "
   ]
  },
  {
   "cell_type": "code",
   "execution_count": 15,
   "metadata": {
    "collapsed": true
   },
   "outputs": [],
   "source": [
    "# Create model of non-smokers that returns estimated weight a function of weeks gestation\n",
    "nosmoker_weight = make_lm(nosmoke['Gest'], nosmoke['Wgt'])"
   ]
  },
  {
   "cell_type": "code",
   "execution_count": 16,
   "metadata": {
    "collapsed": false
   },
   "outputs": [
    {
     "data": {
      "text/plain": [
       "3342.1379310344846"
      ]
     },
     "execution_count": 16,
     "metadata": {},
     "output_type": "execute_result"
    }
   ],
   "source": [
    "# Evaluate it at normal gestations\n",
    "nosmoker_weight(40)"
   ]
  },
  {
   "cell_type": "code",
   "execution_count": 17,
   "metadata": {
    "collapsed": true
   },
   "outputs": [],
   "source": [
    "smoker_weight = make_lm(smoke['Gest'], smoke['Wgt'])"
   ]
  },
  {
   "cell_type": "code",
   "execution_count": 18,
   "metadata": {
    "collapsed": false
   },
   "outputs": [
    {
     "data": {
      "text/plain": [
       "3086.5858585858577"
      ]
     },
     "execution_count": 18,
     "metadata": {},
     "output_type": "execute_result"
    }
   ],
   "source": [
    "smoker_weight(40)"
   ]
  },
  {
   "cell_type": "markdown",
   "metadata": {},
   "source": [
    "## Drawing a conclusion \n",
    "\n",
    "Using the models to remove the contribution due to gestation time, we can attempt to draw a conclusion about the effect of smoking at typical gestation age."
   ]
  },
  {
   "cell_type": "code",
   "execution_count": 19,
   "metadata": {
    "collapsed": false
   },
   "outputs": [
    {
     "data": {
      "text/plain": [
       "255.55207244862686"
      ]
     },
     "execution_count": 19,
     "metadata": {},
     "output_type": "execute_result"
    }
   ],
   "source": [
    "# based on this data set, fitting the data to models of weight as a function of gestation\n",
    "# We might conclude that at 40 weeks the effect of smoking on birthweigth in grams is\n",
    "smoke_diff = nosmoker_weight(40) - smoker_weight(40)\n",
    "smoke_diff"
   ]
  },
  {
   "cell_type": "code",
   "execution_count": 20,
   "metadata": {
    "collapsed": false
   },
   "outputs": [
    {
     "data": {
      "text/plain": [
       "'7.6%'"
      ]
     },
     "execution_count": 20,
     "metadata": {},
     "output_type": "execute_result"
    }
   ],
   "source": [
    "# Or in relative terms\n",
    "\"{0:.1f}%\".format(100*(nosmoker_weight(40)-smoker_weight(40))/nosmoker_weight(40))"
   ]
  },
  {
   "cell_type": "markdown",
   "metadata": {},
   "source": [
    "## Use the models to build a Table and visualize the effect of the categorical parameter - smoking"
   ]
  },
  {
   "cell_type": "code",
   "execution_count": 21,
   "metadata": {
    "collapsed": false
   },
   "outputs": [
    {
     "data": {
      "text/html": [
       "<table border=\"1\" class=\"dataframe\">\n",
       "    <thead>\n",
       "        <tr>\n",
       "            <th>week</th> <th>nosmoke</th> <th>smoke</th>\n",
       "        </tr>\n",
       "    </thead>\n",
       "    <tbody>\n",
       "        <tr>\n",
       "            <td>32  </td> <td>2164.48</td> <td>1974.36</td>\n",
       "        </tr>\n",
       "    </tbody>\n",
       "        <tr>\n",
       "            <td>33  </td> <td>2311.69</td> <td>2113.38</td>\n",
       "        </tr>\n",
       "    </tbody>\n",
       "        <tr>\n",
       "            <td>34  </td> <td>2458.9 </td> <td>2252.41</td>\n",
       "        </tr>\n",
       "    </tbody>\n",
       "        <tr>\n",
       "            <td>35  </td> <td>2606.1 </td> <td>2391.44</td>\n",
       "        </tr>\n",
       "    </tbody>\n",
       "        <tr>\n",
       "            <td>36  </td> <td>2753.31</td> <td>2530.47</td>\n",
       "        </tr>\n",
       "    </tbody>\n",
       "        <tr>\n",
       "            <td>37  </td> <td>2900.52</td> <td>2669.5 </td>\n",
       "        </tr>\n",
       "    </tbody>\n",
       "        <tr>\n",
       "            <td>38  </td> <td>3047.72</td> <td>2808.53</td>\n",
       "        </tr>\n",
       "    </tbody>\n",
       "        <tr>\n",
       "            <td>39  </td> <td>3194.93</td> <td>2947.56</td>\n",
       "        </tr>\n",
       "    </tbody>\n",
       "        <tr>\n",
       "            <td>40  </td> <td>3342.14</td> <td>3086.59</td>\n",
       "        </tr>\n",
       "    </tbody>\n",
       "        <tr>\n",
       "            <td>41  </td> <td>3489.34</td> <td>3225.61</td>\n",
       "        </tr>\n",
       "    </tbody>\n",
       "</table>\n",
       "<p>... (2 rows omitted)</p"
      ],
      "text/plain": [
       "week | nosmoke | smoke\n",
       "32   | 2164.48 | 1974.36\n",
       "33   | 2311.69 | 2113.38\n",
       "34   | 2458.9  | 2252.41\n",
       "35   | 2606.1  | 2391.44\n",
       "36   | 2753.31 | 2530.47\n",
       "37   | 2900.52 | 2669.5\n",
       "38   | 3047.72 | 2808.53\n",
       "39   | 3194.93 | 2947.56\n",
       "40   | 3342.14 | 3086.59\n",
       "41   | 3489.34 | 3225.61\n",
       "... (2 rows omitted)"
      ]
     },
     "execution_count": 21,
     "metadata": {},
     "output_type": "execute_result"
    }
   ],
   "source": [
    "# Create a table with a column containing the independent variable\n",
    "estimated_birthweight = Table().with_column('week', np.arange(32,44))\n",
    "# Add columns of dependent variables\n",
    "estimated_birthweight['nosmoke'] = estimated_birthweight.apply(nosmoker_weight,'week')\n",
    "estimated_birthweight['smoke'] = estimated_birthweight.apply(smoker_weight,'week')\n",
    "estimated_birthweight"
   ]
  },
  {
   "cell_type": "code",
   "execution_count": 22,
   "metadata": {
    "collapsed": false
   },
   "outputs": [
    {
     "data": {
      "image/png": "[encoded data removed]",
      "text/plain": [
       "<matplotlib.figure.Figure at 0x112ae97f0>"
      ]
     },
     "metadata": {},
     "output_type": "display_data"
    }
   ],
   "source": [
    "# plot it to visualize\n",
    "estimated_birthweight.plot('week',overlay=True)"
   ]
  },
  {
   "cell_type": "markdown",
   "metadata": {},
   "source": [
    "## Determining if the conclusion is sound\n",
    "\n",
    "At this point, we might ask how accurately these linear models fit the data.  The 'residual' in the fit would give us some idea of this.  But the error in summarizing a collection of empirical data with an analytical model is only a part of the question.  \n",
    "\n",
    "The deeper point is that this data is not \"truth\", it is merely a sample of a population, and a tiny one at that.  We should be asking, is an inference drawn from this data valid for the population that the data is intended to represent.  Of course, the population is not directly observable, only the sample of it.  How can we use the sample we have to get some idea of how representative it is of the larger population.  That is what bootstrap seeks to accomplish.\n",
    "\n",
    "Tables provide a method `sample` for just this purpose.  Here we return to looking at\n",
    "the coefficients, rather than build a function for the model."
   ]
  },
  {
   "cell_type": "code",
   "execution_count": 23,
   "metadata": {
    "collapsed": true
   },
   "outputs": [],
   "source": [
    "# Construct a new model by forming a new sample from our existing one and fiting a line to that\n",
    "# Here we create quite a general function, which takes a table and column names over which\n",
    "# the model is to be formed.  \n",
    "def rboot(table, x, y):\n",
    "    sample = table.sample(table.num_rows, with_replacement=True)\n",
    "    return np.polyfit(sample[x],sample[y],1)"
   ]
  },
  {
   "cell_type": "code",
   "execution_count": 24,
   "metadata": {
    "collapsed": false
   },
   "outputs": [
    {
     "data": {
      "text/plain": [
       "array([  164.26388889, -3203.14583333])"
      ]
     },
     "execution_count": 24,
     "metadata": {},
     "output_type": "execute_result"
    }
   ],
   "source": [
    "# Try it out for non-smokers.  Note that every time this cell is evaluated (ctrl-enter)\n",
    "# the result is a little different, since a new sample is drawn.\n",
    "rboot(nosmoke, 'Gest', 'Wgt')"
   ]
  },
  {
   "cell_type": "code",
   "execution_count": 25,
   "metadata": {
    "collapsed": false
   },
   "outputs": [
    {
     "data": {
      "text/plain": [
       "array([  138.46774194, -2468.50806452])"
      ]
     },
     "execution_count": 25,
     "metadata": {},
     "output_type": "execute_result"
    }
   ],
   "source": [
    "# And for smokers\n",
    "rboot(smoke,'Gest','Wgt')"
   ]
  },
  {
   "cell_type": "markdown",
   "metadata": {},
   "source": [
    "## Bootstrap\n",
    "\n",
    "Using this model builder as a function, draw many samples and form a model for each.  \n",
    "Then we can look at the distribution of the model parameters over lots of models.\n",
    "\n",
    "This illustrates the construction of tables by rows.  The Table constructor accepts the \n",
    "column names and `with_rows` fills them in row by row.\n",
    "\n",
    "`hist` forms and shows a histogram of the result."
   ]
  },
  {
   "cell_type": "code",
   "execution_count": 26,
   "metadata": {
    "collapsed": false
   },
   "outputs": [
    {
     "data": {
      "image/png": "[encoded data removed]",
      "text/plain": [
       "<matplotlib.figure.Figure at 0x112ae9c50>"
      ]
     },
     "metadata": {},
     "output_type": "display_data"
    }
   ],
   "source": [
    "# Bootstrap a distribution of models by drawing many random samples, with replacement, from our samples\n",
    "num_samples = 1000\n",
    "nosamples = Table(['slope','intercept']).with_rows([rboot(nosmoke,'Gest','Wgt') for i in range(num_samples)])\n",
    "nosamples.hist(bins=50,normed=True, overlay=False)"
   ]
  },
  {
   "cell_type": "markdown",
   "metadata": {},
   "source": [
    "And we repeate this for the other category."
   ]
  },
  {
   "cell_type": "code",
   "execution_count": 27,
   "metadata": {
    "collapsed": false
   },
   "outputs": [
    {
     "data": {
      "image/png": "[encoded data removed]",
      "text/plain": [
       "<matplotlib.figure.Figure at 0x112eeaef0>"
      ]
     },
     "metadata": {},
     "output_type": "display_data"
    }
   ],
   "source": [
    "smokesamples = Table(['slope','intercept']).with_rows([rboot(smoke,'Gest','Wgt') for i in range(num_samples)])\n",
    "smokesamples.hist(bins=50,normed=True, overlay=False)"
   ]
  },
  {
   "cell_type": "markdown",
   "metadata": {},
   "source": [
    "## Summary of sample distributions of the regression"
   ]
  },
  {
   "cell_type": "markdown",
   "metadata": {},
   "source": [
    "At this point we could compute a statistic over the sample distributions of these parameters, such as the total variational distance, or the mean."
   ]
  },
  {
   "cell_type": "code",
   "execution_count": 28,
   "metadata": {
    "collapsed": false
   },
   "outputs": [
    {
     "data": {
      "text/html": [
       "<table border=\"1\" class=\"dataframe\">\n",
       "    <thead>\n",
       "        <tr>\n",
       "            <th>statistic</th> <th>slope</th> <th>intercept</th>\n",
       "        </tr>\n",
       "    </thead>\n",
       "    <tbody>\n",
       "        <tr>\n",
       "            <td>amin     </td> <td>115.182</td> <td>-3814.18 </td>\n",
       "        </tr>\n",
       "    </tbody>\n",
       "        <tr>\n",
       "            <td>mean     </td> <td>147.53 </td> <td>-2556.88 </td>\n",
       "        </tr>\n",
       "    </tbody>\n",
       "        <tr>\n",
       "            <td>amax     </td> <td>179.448</td> <td>-1237.52 </td>\n",
       "        </tr>\n",
       "    </tbody>\n",
       "</table>"
      ],
      "text/plain": [
       "statistic | slope   | intercept\n",
       "amin      | 115.182 | -3814.18\n",
       "mean      | 147.53  | -2556.88\n",
       "amax      | 179.448 | -1237.52"
      ]
     },
     "execution_count": 28,
     "metadata": {},
     "output_type": "execute_result"
    }
   ],
   "source": [
    "nosamples.stats([np.min,np.mean,np.max])"
   ]
  },
  {
   "cell_type": "code",
   "execution_count": 29,
   "metadata": {
    "collapsed": false
   },
   "outputs": [
    {
     "data": {
      "text/html": [
       "<table border=\"1\" class=\"dataframe\">\n",
       "    <thead>\n",
       "        <tr>\n",
       "            <th>statistic</th> <th>slope</th> <th>intercept</th>\n",
       "        </tr>\n",
       "    </thead>\n",
       "    <tbody>\n",
       "        <tr>\n",
       "            <td>amin     </td> <td>88.2447</td> <td>-4820.81 </td>\n",
       "        </tr>\n",
       "    </tbody>\n",
       "        <tr>\n",
       "            <td>mean     </td> <td>139.815</td> <td>-2508.46 </td>\n",
       "        </tr>\n",
       "    </tbody>\n",
       "        <tr>\n",
       "            <td>amax     </td> <td>196    </td> <td>-589.657 </td>\n",
       "        </tr>\n",
       "    </tbody>\n",
       "</table>"
      ],
      "text/plain": [
       "statistic | slope   | intercept\n",
       "amin      | 88.2447 | -4820.81\n",
       "mean      | 139.815 | -2508.46\n",
       "amax      | 196     | -589.657"
      ]
     },
     "execution_count": 29,
     "metadata": {},
     "output_type": "execute_result"
    }
   ],
   "source": [
    "smokesamples.stats([np.min,np.mean,np.max])"
   ]
  },
  {
   "cell_type": "markdown",
   "metadata": {},
   "source": [
    "## Estimation of birthweights at 40 weeks\n",
    "\n",
    "Selecting a column of a Table yields a numpy array.  Arithmetic operators work\n",
    "elementwise on the entire array."
   ]
  },
  {
   "cell_type": "code",
   "execution_count": 30,
   "metadata": {
    "collapsed": false
   },
   "outputs": [
    {
     "data": {
      "text/plain": [
       "array([ 3042.95149254,  3112.06811146,  3088.03921569,  3074.52740168,\n",
       "        3097.85313531,  3072.14760148,  3070.93203181,  3046.54018445,\n",
       "        3091.70460048,  3093.00762777,  3053.96825397,  3120.44646925,\n",
       "        3085.02777778,  3082.42842843,  3122.50111857,  3112.85164835,\n",
       "        3051.5572666 ,  3113.27892977,  3132.4546148 ,  3134.81023102,\n",
       "        3072.63189093,  3109.0745098 ,  3083.01234568,  3088.57260726,\n",
       "        3106.7652968 ,  3084.32237312,  3090.56628788,  3072.37733333,\n",
       "        3054.70972222,  3097.01269841,  3066.01210898,  3070.85327924,\n",
       "        3121.12681159,  3053.00757576,  3051.21326165,  3071.42556084,\n",
       "        3079.7807971 ,  3049.87083333,  3074.06917543,  3131.01574803,\n",
       "        3056.32230392,  3074.91666667,  3131.29546991,  3091.94089347,\n",
       "        3138.13524937,  3039.70972222,  3133.85558354,  3085.60526316,\n",
       "        3048.9380805 ,  3071.09302326,  3064.60703364,  3060.356974  ,\n",
       "        3027.38797814,  3071.80500284,  3126.89369708,  3138.5862069 ,\n",
       "        3052.69314472,  3067.54347826,  3082.2112104 ,  3094.14850136,\n",
       "        3056.80555556,  3082.04794521,  3071.25686275,  3068.62769231,\n",
       "        3112.43869378,  3098.52      ,  3084.37903226,  3108.48170732,\n",
       "        3059.11003236,  3069.81706435,  3070.67164179,  3091.36392405,\n",
       "        3130.8767288 ,  3048.86862334,  3053.96558704,  3097.6010101 ,\n",
       "        3044.7173913 ,  3047.55952381,  3101.49650794,  3034.86271186,\n",
       "        3088.68835616,  3116.25347222,  3057.40847458,  3089.01898734,\n",
       "        3057.27248141,  3066.62080316,  3085.05424322,  3091.16551724,\n",
       "        3113.08035714,  3080.32795699,  3060.37535817,  3090.30196078,\n",
       "        3099.        ,  3069.03942652,  3110.50244584,  3065.67070218,\n",
       "        3068.92938497,  3069.46392694,  3119.32732733,  3068.7125    ,\n",
       "        3107.62778112,  3071.17967782,  3075.50833333,  3138.92143402,\n",
       "        3079.60501567,  3133.93037336,  3055.17638791,  3018.47804878,\n",
       "        3037.7797619 ,  3072.86454734,  3069.3262891 ,  3110.73650794,\n",
       "        3087.29153605,  3098.98891528,  3107.71975181,  3033.72255018,\n",
       "        3072.5942029 ,  3129.81920904,  3032.10869565,  3056.40804598,\n",
       "        3075.08603352,  3110.98245614,  3141.88655789,  3064.48071979,\n",
       "        3140.23098792,  3118.3214671 ,  3104.4375    ,  3076.2923777 ,\n",
       "        3105.65540541,  3091.23967961,  3061.20833333,  3079.09874608,\n",
       "        3034.10970464,  3075.87486034,  3108.99634703,  3084.39160839,\n",
       "        3099.2375317 ,  3070.23009624,  3070.39293937,  3019.79710145,\n",
       "        3077.        ,  3099.42200452,  3122.32915718,  3077.9478022 ,\n",
       "        3057.47184987,  3056.53823529,  3128.43333333,  3141.20765027,\n",
       "        3078.39160839,  3106.60438144,  3052.30291627,  3103.64931309,\n",
       "        3082.453125  ,  3083.04761905,  3107.85520054,  3094.56521739,\n",
       "        3121.04761905,  3104.68283582,  3060.36964286,  3080.32936508,\n",
       "        3136.3614304 ,  3080.1163311 ,  3095.76759777,  3028.21653543,\n",
       "        3111.8427464 ,  3073.96078431,  3086.0530303 ,  3065.92359121,\n",
       "        3084.05663567,  3080.74159021,  3071.16591252,  3089.24458874,\n",
       "        3082.696793  ,  3052.01787592,  3101.57035176,  3034.3968254 ,\n",
       "        3057.01404853,  3095.08201893,  3096.97798742,  3093.06277056,\n",
       "        3013.44069641,  3069.23026316,  3087.69055745,  3098.25947187,\n",
       "        3080.52777778,  3070.81681682,  3119.14636872,  3087.2298066 ,\n",
       "        3058.16666667,  3099.27882038,  3061.03125   ,  3082.55191257,\n",
       "        3065.69927536,  3099.5408805 ,  3127.9673913 ,  3056.14627415,\n",
       "        3068.72222222,  3121.63466667,  3077.50433705,  3088.09798775,\n",
       "        3072.18930041,  3072.58250825,  3072.06299213,  3087.89204545,\n",
       "        3116.58930112,  3127.03139013,  3106.26090064,  3166.10413312,\n",
       "        3079.03921569,  3092.03374055,  3111.7372549 ,  3088.84340659,\n",
       "        3091.24828935,  3125.67473118,  3112.50606909,  3097.77641026,\n",
       "        3117.2803532 ,  3110.30379124,  3122.37050805,  3170.70666667,\n",
       "        3088.82620145,  3076.61309524,  3078.36666667,  3088.08628128,\n",
       "        3101.91714836,  3116.83590876,  3072.25925926,  3103.03508772,\n",
       "        3080.9375    ,  3069.10074627,  3084.625     ,  3057.72285714,\n",
       "        3107.83561644,  3029.50569801,  3062.50042845,  3045.75347222,\n",
       "        3115.47397564,  3118.58229066,  3076.15415822,  3072.48542274,\n",
       "        3047.3876652 ,  3083.875     ,  3062.51376147,  3047.47560976,\n",
       "        3057.30920372,  3030.65625   ,  3105.40111732,  3046.93710692,\n",
       "        3089.25284339,  3090.        ,  3066.25      ,  3028.45232647,\n",
       "        3112.05294118,  3092.41269841,  3086.31658291,  3065.94776119,\n",
       "        3057.68876611,  3098.0544518 ,  3081.9218107 ,  3104.89504373,\n",
       "        3104.94577942,  3073.81299332,  3106.65137615,  3070.4142752 ,\n",
       "        3096.64506173,  3033.30601093,  3022.08654971,  3122.72880337,\n",
       "        3086.14010007,  3070.4562212 ,  3088.85290323,  3015.79207921,\n",
       "        3065.05232558,  3095.90086494,  3064.79651795,  3079.94618182,\n",
       "        3113.30871212,  3033.15384615,  3086.48472222,  3070.34299517,\n",
       "        3083.17986799,  3039.15699659,  3127.59016393,  3079.82091918,\n",
       "        3037.27083333,  3088.49407115,  3124.53025641,  3086.30322581,\n",
       "        3077.51388889,  3083.05978261,  3054.3968254 ,  3099.26923077,\n",
       "        3070.40972222,  3075.36391437,  3120.17273576,  3066.19444444,\n",
       "        3146.375     ,  3077.84416492,  3101.5974026 ,  3019.69533528,\n",
       "        3102.452565  ,  3098.57916667,  3050.53504145,  3055.47214612,\n",
       "        3089.4877451 ,  3105.02847282,  3059.29015544,  3119.58440446,\n",
       "        3090.65      ,  3126.79059829,  3095.3947529 ,  3068.213732  ,\n",
       "        3082.26420455,  3037.54391892,  3109.        ,  3117.18295543,\n",
       "        3077.14504325,  3095.38621795,  3100.67099567,  3050.77873563,\n",
       "        3079.829555  ,  3138.67530488,  3096.84747706,  3066.33828383,\n",
       "        3046.11021814,  3047.23062731,  3102.40725806,  3068.88033012,\n",
       "        3102.65776699,  3115.62145749,  3094.16790123,  3129.71314103,\n",
       "        3072.0625    ,  3052.88301282,  3096.73779193,  3053.69521411,\n",
       "        3055.79043825,  3071.2265625 ,  3059.18171091,  3067.7937034 ,\n",
       "        3070.95698925,  3119.40554156,  3091.28673835,  3119.03508772,\n",
       "        3120.99484915,  3103.98055556,  3083.75968992,  3049.85424354,\n",
       "        3070.47738693,  3093.875     ,  3099.76278497,  3028.        ,\n",
       "        3072.20658228,  3106.85936152,  3070.94220111,  3080.98184818,\n",
       "        3044.22222222,  3019.1875    ,  3030.08636364,  3080.61819659,\n",
       "        3058.34112792,  3147.31488801,  3113.70170455,  3087.7704918 ,\n",
       "        3128.75105485,  3070.79545455,  3086.02913453,  3094.99126638,\n",
       "        3059.81666667,  3043.03703704,  3074.1181888 ,  3141.8362069 ,\n",
       "        3090.37634409,  3053.47340824,  3138.31525424,  3099.43240974,\n",
       "        3083.73197192,  3071.52668416,  3033.61254613,  3120.65179353,\n",
       "        3123.73412698,  3068.30410959,  3052.24024024,  3100.54924242,\n",
       "        3113.8879056 ,  3105.78737113,  3093.76495726,  3090.32738095,\n",
       "        3070.24626866,  3101.59861111,  3076.89837398,  3087.32156863,\n",
       "        3084.42315369,  3049.90421456,  3100.05128205,  3072.88778878,\n",
       "        3077.26647564,  3110.53643725,  3030.18306011,  3092.72248354,\n",
       "        3123.26086957,  3027.59302326,  3037.34610473,  3092.12246234,\n",
       "        3017.63499604,  3045.5625    ,  3081.85381818,  3041.97727273,\n",
       "        3093.97359357,  3121.13131313,  3047.92407809,  3098.88311688,\n",
       "        3048.64139344,  3123.49408983,  3084.65617805,  3112.32537961,\n",
       "        3114.81944444,  3077.2220339 ,  3098.61920173,  3120.55833333,\n",
       "        3063.4521306 ,  3028.85964912,  3085.6867284 ,  3058.10561056,\n",
       "        3101.62941176,  3066.06470588,  3069.01630435,  3110.64805415,\n",
       "        3054.00753769,  3037.94554455,  3090.6935167 ,  3058.79112754,\n",
       "        3083.956     ,  3048.8707671 ,  3077.26704545,  3056.66666667,\n",
       "        3099.68214055,  3091.51428571,  3087.16666667,  3118.41447368,\n",
       "        3079.98737374,  3074.3573487 ,  3114.09407338,  3064.76867687,\n",
       "        3097.95098039,  3074.81581582,  3069.92212389,  3050.88283828,\n",
       "        3101.25636672,  3156.98958333,  3066.26294821,  3068.46539028,\n",
       "        3053.27272727,  3095.86087768,  3095.88398357,  3094.28860936,\n",
       "        3083.79537954,  3028.81430536,  3087.29723992,  3086.91666667,\n",
       "        3069.29830149,  3030.16037736,  3107.73026316,  3080.35663082,\n",
       "        3092.68543342,  3067.59016393,  3117.62770563,  3116.83      ,\n",
       "        3126.54166667,  3127.14215686,  3120.16368286,  3115.59222281,\n",
       "        3080.20238095,  3118.3218107 ,  3062.96187291,  3105.24464832,\n",
       "        3074.95267072,  3105.07652686,  3109.29109589,  3072.45986239,\n",
       "        3108.13736264,  3051.35568953,  3016.84415584,  3092.30830489,\n",
       "        3064.14754098,  3031.02173913,  3097.05180723,  3098.66308519,\n",
       "        3048.27058824,  3092.30196078,  3049.16969697,  3103.2991453 ,\n",
       "        3108.36307311,  3012.94372294,  3062.21266615,  3070.15384615,\n",
       "        3092.48435544,  3092.85064935,  3061.44457831,  3092.73849879,\n",
       "        3082.74885845,  3114.85592665,  3088.75877588,  3104.92361111,\n",
       "        3085.44901961,  3036.5625    ,  3044.57033639,  3084.08      ,\n",
       "        3037.42899191,  3114.46793003,  3071.66081871,  3084.86936937,\n",
       "        3112.95061728,  3128.96753247,  3105.71511208,  3068.04310345,\n",
       "        3098.97088792,  3077.56089744,  3114.31985294,  3054.98662846,\n",
       "        3152.23      ,  3093.59512837,  3109.27107062,  3125.65254237,\n",
       "        3082.25296804,  3071.05832321,  3062.82403965,  3130.64262821,\n",
       "        3083.97064454,  3103.43193525,  3060.96505376,  3157.25416667,\n",
       "        3117.59428061,  3101.5       ,  3059.72384035,  3064.86650485,\n",
       "        3110.64326739,  3072.55357143,  3076.01103956,  3121.24027778,\n",
       "        3119.02425016,  3014.20820513,  3101.52699784,  3085.13116971,\n",
       "        3015.91769547,  3105.11805556,  3080.14576271,  3096.67034584,\n",
       "        3041.28629032,  3089.26041667,  3045.24583333,  3081.52931978,\n",
       "        3111.07265522,  3039.11185087,  3088.68587491,  3123.23508772,\n",
       "        3046.02213667,  3067.83038638,  3093.45501285,  3072.35714286,\n",
       "        3110.86666667,  3134.27404148,  3022.81272596,  3098.05787037,\n",
       "        3070.3064133 ,  3100.02183039,  3049.97540408,  3096.40196078,\n",
       "        3079.69586141,  3132.08333333,  3117.32386748,  3019.33578657,\n",
       "        3080.83060635,  3040.93493976,  3102.87304075,  3091.42170671,\n",
       "        3068.96369637,  3077.71574344,  3057.96460177,  3047.90059983,\n",
       "        3034.99089875,  3094.53510896,  3137.92361111,  3126.22437137,\n",
       "        3096.39701664,  3073.2848392 ,  3081.97210482,  3121.58037225,\n",
       "        3100.86161011,  3126.64374591,  3133.46683459,  3053.97916667,\n",
       "        3075.42910448,  3046.08636364,  3075.00645161,  3073.30087897,\n",
       "        3086.99877451,  3121.92952381,  3127.97126437,  3067.92542373,\n",
       "        3052.17334906,  3036.36754643,  2940.13102119,  3085.68518519,\n",
       "        3103.56388889,  3053.03846154,  3132.1568254 ,  3113.40338164,\n",
       "        3083.18851757,  3042.40557276,  3047.45045045,  3105.60416667,\n",
       "        3084.61761762,  3039.50917431,  3083.26720947,  3077.69661017,\n",
       "        3083.21188428,  3104.76992936,  3067.14979757,  3112.69049859,\n",
       "        3082.13131313,  3101.8125    ,  3128.1483376 ,  3084.12689394,\n",
       "        3093.24719101,  3101.10818438,  3073.52048962,  3074.2218543 ,\n",
       "        3032.69717773,  3086.1489726 ,  3056.2689769 ,  3104.08901515,\n",
       "        3117.09362389,  3099.00738007,  3149.13472222,  3071.52173913,\n",
       "        3089.08723069,  3048.81900452,  3093.93489583,  3076.49023861,\n",
       "        3111.57053292,  3063.20082305,  3134.6831844 ,  3094.68970588,\n",
       "        3119.07506053,  3108.9626506 ,  3140.03559322,  3111.39130435,\n",
       "        3056.37091805,  3087.8255144 ,  3121.79416713,  3082.50825083,\n",
       "        3089.56692913,  3075.17712177,  3112.47282609,  3083.99373041,\n",
       "        3092.15617128,  3103.12276612,  3078.94444444,  3072.42767296,\n",
       "        3079.74509804,  3056.22920407,  3119.27298851,  3110.35246505,\n",
       "        3096.86288416,  3048.86898594,  3079.86786787,  3071.60897436,\n",
       "        3057.45466156,  3094.15408085,  3077.7021041 ,  3061.78530425,\n",
       "        3056.11111111,  3026.17204301,  3034.76211454,  3112.69747381,\n",
       "        3052.70967742,  3078.13399779,  3087.64305177,  3080.7826087 ,\n",
       "        3080.35416667,  3107.18666667,  3117.58001398,  3073.32536974,\n",
       "        3087.04967949,  3120.55465587,  3097.83631714,  3056.82539683,\n",
       "        3079.65511551,  2965.238921  ,  3115.78294574,  3081.3825682 ,\n",
       "        3051.50797267,  3104.27016129,  3107.25889968,  3088.1402214 ,\n",
       "        3086.21585903,  3127.73979862,  3074.50369004,  3116.58735554,\n",
       "        3068.75      ,  3046.67210145,  3121.95833333,  3095.29569892,\n",
       "        3132.30254545,  3042.6384671 ,  3118.38539683,  3144.03765227,\n",
       "        3078.38154808,  3054.90873016,  3064.08974359,  3052.03728362,\n",
       "        3060.00746269,  3089.13608563,  3093.41269841,  3077.24931507,\n",
       "        3120.8125    ,  3086.92562542,  3104.89871873,  3115.03559322,\n",
       "        3131.02013423,  3084.04044944,  3163.3655706 ,  3108.72197309,\n",
       "        3098.48333333,  3114.13204952,  3050.49206349,  3089.33766234,\n",
       "        3123.45973909,  3045.80729167,  3070.42114695,  3062.95665635,\n",
       "        3100.53044872,  3034.65351299,  3087.51182033,  3134.51980198,\n",
       "        3080.84946237,  3138.66882416,  3071.39617486,  3112.53333333,\n",
       "        3107.88394468,  3088.1484038 ,  3122.54512958,  3060.54509804,\n",
       "        3088.13149847,  3109.38141026,  3123.38203191,  3072.51602815,\n",
       "        3089.13819095,  3097.00726392,  3092.71253823,  3064.21333333,\n",
       "        3023.85      ,  3145.78674352,  3116.21566265,  3113.77593032,\n",
       "        3046.56670602,  3059.9204893 ,  3048.19391026,  3069.34650856,\n",
       "        3109.76286579,  3087.52882206,  3119.4150641 ,  3096.80449209,\n",
       "        3048.69603524,  3104.94725394,  3079.94089347,  3084.75247525,\n",
       "        3108.71558351,  3098.718398  ,  3151.8046595 ,  3087.24065262,\n",
       "        3077.9030303 ,  3071.02867384,  3101.08805031,  3087.40637141,\n",
       "        3050.3647343 ,  3058.08088235,  3100.32694064,  3154.61973526,\n",
       "        3024.34323432,  3113.3872549 ,  3081.16472416,  3100.01207729,\n",
       "        3080.14752568,  3056.40477864,  3066.95904437,  3092.25585149,\n",
       "        3097.4974773 ,  3078.25542916,  3088.83557394,  3068.05448718,\n",
       "        3122.25      ,  3043.33552632,  3050.84298908,  3099.38768116,\n",
       "        3041.8357021 ,  3139.12825397,  3057.62798354,  3126.07488987,\n",
       "        3135.56592292,  3085.97748874,  3068.34356553,  3074.83064516,\n",
       "        3060.05329154,  3108.85397965,  3114.40942029,  3097.66415804,\n",
       "        3090.89273927,  3083.98360656,  3122.94687232,  3109.6987061 ,\n",
       "        3085.88210652,  3033.94920635,  3073.06726457,  3087.62009315,\n",
       "        3096.97855611,  3021.1627451 ,  3102.24315872,  3093.25      ,\n",
       "        3064.14096916,  3069.05315822,  3072.35869565,  3045.11038961,\n",
       "        3100.1703854 ,  3082.38983051,  3039.53918495,  3036.34631268,\n",
       "        3060.72252448,  3108.03820225,  3131.54545455,  3083.64806481,\n",
       "        3112.70134228,  3033.02578269,  3067.41714286,  3064.63852814,\n",
       "        3107.72972973,  3102.67443667,  3113.9       ,  3081.53958944,\n",
       "        3053.81188119,  3117.90277778,  3087.30651341,  3052.75      ,\n",
       "        3129.69266055,  3077.49585195,  3101.02466368,  3110.18723037,\n",
       "        3073.15104167,  3129.58906526,  3128.69583333,  3106.68275862,\n",
       "        3055.11290323,  3101.30208333,  3122.8044739 ,  3090.22839506,\n",
       "        3090.37174982,  3092.49960412,  3090.16169394,  3120.12393162,\n",
       "        3058.5625    ,  3095.02604167,  3103.61926606,  3074.125     ,\n",
       "        3045.36574074,  3052.69007264,  3117.15545915,  3104.7406015 ,\n",
       "        3078.95157385,  3046.71649066,  3107.09444444,  3061.64851485,\n",
       "        3080.60089686,  3086.45907007,  3133.45227123,  3065.02323503,\n",
       "        3114.42088608,  3041.46195652,  3121.57352941,  3089.1280654 ,\n",
       "        3103.73265651,  3102.60973783,  3074.78475336,  3080.75757576,\n",
       "        3120.24286582,  3076.875     ,  3060.18251928,  3112.25459318,\n",
       "        3095.28187919,  3078.87978142,  3117.62157534,  3088.49715909,\n",
       "        3054.54166667,  3081.59836066,  3095.80512821,  3043.07236842,\n",
       "        3114.325     ,  3070.9122807 ,  3022.69357496,  3089.20345745,\n",
       "        3085.83653108,  3022.09333333,  3108.96153846,  3086.26567657,\n",
       "        3066.59363702,  3080.47301587,  3083.02186589,  3069.13978495,\n",
       "        3035.30266789,  3086.76190476,  3065.77596996,  3075.96414343,\n",
       "        3109.70308968,  3094.7008547 ,  3082.78313253,  3069.67628205,\n",
       "        3041.65217391,  3094.1901723 ,  3087.8362069 ,  3056.09053498,\n",
       "        3076.41609589,  3100.67983244,  3147.13802083,  3064.66879387,\n",
       "        3083.70175439,  3016.38507822,  3084.152     ,  3081.998999  ,\n",
       "        3126.65889213,  3106.02475248,  3087.55411255,  3107.15333333,\n",
       "        3094.01563786,  3111.86862334,  3080.3222804 ,  3023.51209253,\n",
       "        3091.63790186,  3043.59897172,  3062.05059524,  3090.96380952,\n",
       "        3021.81121899,  3048.39247312,  3059.8024819 ,  3061.74480849,\n",
       "        3061.11438785,  3063.58276125,  3067.83272727,  3058.15217391,\n",
       "        3091.79569892,  3039.41196465,  3114.37638889,  3070.79039301,\n",
       "        3074.56642066,  3050.63073852,  3072.2012987 ,  3121.97521866,\n",
       "        3084.875     ,  3103.02485004,  3062.00847458,  3054.1352657 ,\n",
       "        3034.82551143,  3095.16006339,  3069.57487923,  3060.598234  ,\n",
       "        3075.51712329,  3149.98795181,  3075.91666667,  3106.03128761,\n",
       "        3091.34996041,  3141.93301049,  3032.46973366,  3049.12747427,\n",
       "        3129.68551842,  3117.67114788,  3032.28375286,  3069.82616487,\n",
       "        3091.07173913,  3116.23387097,  3031.90625   ,  3113.64451827,\n",
       "        3145.07046714,  3087.78066613,  3103.90909091,  3064.36985237,\n",
       "        3070.080316  ,  3095.57894737,  3056.8125    ,  3096.08385482,\n",
       "        3098.2074426 ,  3089.23550725,  3114.04868914,  3041.82638889,\n",
       "        3075.60401003,  3052.87445887,  3133.16049383,  3082.37296037,\n",
       "        3089.5       ,  3115.9375    ,  3093.20833333,  3034.87055016])"
      ]
     },
     "execution_count": 30,
     "metadata": {},
     "output_type": "execute_result"
    }
   ],
   "source": [
    "smokesamples['slope']*40+smokesamples['intercept']"
   ]
  },
  {
   "cell_type": "code",
   "execution_count": 31,
   "metadata": {
    "collapsed": false
   },
   "outputs": [
    {
     "data": {
      "text/html": [
       "<table border=\"1\" class=\"dataframe\">\n",
       "    <thead>\n",
       "        <tr>\n",
       "            <th>nosmoke</th> <th>smoke</th>\n",
       "        </tr>\n",
       "    </thead>\n",
       "    <tbody>\n",
       "        <tr>\n",
       "            <td>3335.95</td> <td>3042.95</td>\n",
       "        </tr>\n",
       "    </tbody>\n",
       "        <tr>\n",
       "            <td>3400.74</td> <td>3112.07</td>\n",
       "        </tr>\n",
       "    </tbody>\n",
       "        <tr>\n",
       "            <td>3301.64</td> <td>3088.04</td>\n",
       "        </tr>\n",
       "    </tbody>\n",
       "        <tr>\n",
       "            <td>3343.92</td> <td>3074.53</td>\n",
       "        </tr>\n",
       "    </tbody>\n",
       "        <tr>\n",
       "            <td>3374.81</td> <td>3097.85</td>\n",
       "        </tr>\n",
       "    </tbody>\n",
       "        <tr>\n",
       "            <td>3329.85</td> <td>3072.15</td>\n",
       "        </tr>\n",
       "    </tbody>\n",
       "        <tr>\n",
       "            <td>3328.49</td> <td>3070.93</td>\n",
       "        </tr>\n",
       "    </tbody>\n",
       "        <tr>\n",
       "            <td>3371.23</td> <td>3046.54</td>\n",
       "        </tr>\n",
       "    </tbody>\n",
       "        <tr>\n",
       "            <td>3357.23</td> <td>3091.7 </td>\n",
       "        </tr>\n",
       "    </tbody>\n",
       "        <tr>\n",
       "            <td>3331.11</td> <td>3093.01</td>\n",
       "        </tr>\n",
       "    </tbody>\n",
       "</table>\n",
       "<p>... (990 rows omitted)</p"
      ],
      "text/plain": [
       "nosmoke | smoke\n",
       "3335.95 | 3042.95\n",
       "3400.74 | 3112.07\n",
       "3301.64 | 3088.04\n",
       "3343.92 | 3074.53\n",
       "3374.81 | 3097.85\n",
       "3329.85 | 3072.15\n",
       "3328.49 | 3070.93\n",
       "3371.23 | 3046.54\n",
       "3357.23 | 3091.7\n",
       "3331.11 | 3093.01\n",
       "... (990 rows omitted)"
      ]
     },
     "execution_count": 31,
     "metadata": {},
     "output_type": "execute_result"
    }
   ],
   "source": [
    "# So now we have an estimate of the distribution of birthweights at week 40 for \n",
    "# something closer to the populations that these small samples represent.\n",
    "weights_40 = Table().with_columns([\n",
    "        ('nosmoke', nosamples['slope']*40+nosamples['intercept']),\n",
    "        ('smoke', smokesamples['slope']*40+smokesamples['intercept'])])\n",
    "weights_40"
   ]
  },
  {
   "cell_type": "code",
   "execution_count": 32,
   "metadata": {
    "collapsed": true
   },
   "outputs": [],
   "source": [
    "weights_40['Smoke Wgt Loss'] = weights_40['nosmoke'] - weights_40['smoke']"
   ]
  },
  {
   "cell_type": "code",
   "execution_count": 33,
   "metadata": {
    "collapsed": false
   },
   "outputs": [
    {
     "data": {
      "image/png": "[encoded data removed]",
      "text/plain": [
       "<matplotlib.figure.Figure at 0x112aa2a90>"
      ]
     },
     "metadata": {},
     "output_type": "display_data"
    }
   ],
   "source": [
    "# what do we expect the distribution of birthweight reduction due to smoking to look like\n",
    "# for the population represented by the original sample?\n",
    "weights_40.select('Smoke Wgt Loss').hist(bins=30,normed=True)  "
   ]
  },
  {
   "cell_type": "code",
   "execution_count": 34,
   "metadata": {
    "collapsed": false
   },
   "outputs": [
    {
     "data": {
      "text/plain": [
       "255.55207244862686"
      ]
     },
     "execution_count": 34,
     "metadata": {},
     "output_type": "execute_result"
    }
   ],
   "source": [
    "smoke_diff"
   ]
  },
  {
   "cell_type": "code",
   "execution_count": 35,
   "metadata": {
    "collapsed": false
   },
   "outputs": [],
   "source": [
    "def firstQtile(x) : return np.percentile(x,25)\n",
    "def thirdQtile(x) : return np.percentile(x,25)\n",
    "summary_ops = (min, firstQtile, np.median, np.mean, thirdQtile, max)"
   ]
  },
  {
   "cell_type": "code",
   "execution_count": 36,
   "metadata": {
    "collapsed": false
   },
   "outputs": [
    {
     "data": {
      "text/html": [
       "<table border=\"1\" class=\"dataframe\">\n",
       "    <thead>\n",
       "        <tr>\n",
       "            <th>statistic</th> <th>nosmoke</th> <th>smoke</th> <th>Smoke Wgt Loss</th>\n",
       "        </tr>\n",
       "    </thead>\n",
       "    <tbody>\n",
       "        <tr>\n",
       "            <td>min       </td> <td>3242.75</td> <td>2940.13</td> <td>116.965       </td>\n",
       "        </tr>\n",
       "    </tbody>\n",
       "        <tr>\n",
       "            <td>firstQtile</td> <td>3321.98</td> <td>3065.69</td> <td>231.516       </td>\n",
       "        </tr>\n",
       "    </tbody>\n",
       "        <tr>\n",
       "            <td>median    </td> <td>3342.44</td> <td>3084.41</td> <td>260.932       </td>\n",
       "        </tr>\n",
       "    </tbody>\n",
       "        <tr>\n",
       "            <td>mean      </td> <td>3344.3 </td> <td>3084.13</td> <td>260.173       </td>\n",
       "        </tr>\n",
       "    </tbody>\n",
       "        <tr>\n",
       "            <td>thirdQtile</td> <td>3321.98</td> <td>3065.69</td> <td>231.516       </td>\n",
       "        </tr>\n",
       "    </tbody>\n",
       "        <tr>\n",
       "            <td>max       </td> <td>3464.28</td> <td>3170.71</td> <td>401.404       </td>\n",
       "        </tr>\n",
       "    </tbody>\n",
       "</table>"
      ],
      "text/plain": [
       "statistic  | nosmoke | smoke   | Smoke Wgt Loss\n",
       "min        | 3242.75 | 2940.13 | 116.965\n",
       "firstQtile | 3321.98 | 3065.69 | 231.516\n",
       "median     | 3342.44 | 3084.41 | 260.932\n",
       "mean       | 3344.3  | 3084.13 | 260.173\n",
       "thirdQtile | 3321.98 | 3065.69 | 231.516\n",
       "max        | 3464.28 | 3170.71 | 401.404"
      ]
     },
     "execution_count": 36,
     "metadata": {},
     "output_type": "execute_result"
    }
   ],
   "source": [
    "summary = weights_40.stats(summary_ops)\n",
    "summary"
   ]
  },
  {
   "cell_type": "code",
   "execution_count": 37,
   "metadata": {
    "collapsed": true
   },
   "outputs": [],
   "source": [
    "summary['diff']=summary['nosmoke']-summary['smoke']"
   ]
  },
  {
   "cell_type": "code",
   "execution_count": 38,
   "metadata": {
    "collapsed": false
   },
   "outputs": [
    {
     "data": {
      "text/html": [
       "<table border=\"1\" class=\"dataframe\">\n",
       "    <thead>\n",
       "        <tr>\n",
       "            <th>statistic</th> <th>nosmoke</th> <th>smoke</th> <th>Smoke Wgt Loss</th> <th>diff</th>\n",
       "        </tr>\n",
       "    </thead>\n",
       "    <tbody>\n",
       "        <tr>\n",
       "            <td>min       </td> <td>3242.75</td> <td>2940.13</td> <td>116.965       </td> <td>302.617</td>\n",
       "        </tr>\n",
       "    </tbody>\n",
       "        <tr>\n",
       "            <td>firstQtile</td> <td>3321.98</td> <td>3065.69</td> <td>231.516       </td> <td>256.29 </td>\n",
       "        </tr>\n",
       "    </tbody>\n",
       "        <tr>\n",
       "            <td>median    </td> <td>3342.44</td> <td>3084.41</td> <td>260.932       </td> <td>258.029</td>\n",
       "        </tr>\n",
       "    </tbody>\n",
       "        <tr>\n",
       "            <td>mean      </td> <td>3344.3 </td> <td>3084.13</td> <td>260.173       </td> <td>260.173</td>\n",
       "        </tr>\n",
       "    </tbody>\n",
       "        <tr>\n",
       "            <td>thirdQtile</td> <td>3321.98</td> <td>3065.69</td> <td>231.516       </td> <td>256.29 </td>\n",
       "        </tr>\n",
       "    </tbody>\n",
       "        <tr>\n",
       "            <td>max       </td> <td>3464.28</td> <td>3170.71</td> <td>401.404       </td> <td>293.573</td>\n",
       "        </tr>\n",
       "    </tbody>\n",
       "</table>"
      ],
      "text/plain": [
       "statistic  | nosmoke | smoke   | Smoke Wgt Loss | diff\n",
       "min        | 3242.75 | 2940.13 | 116.965        | 302.617\n",
       "firstQtile | 3321.98 | 3065.69 | 231.516        | 256.29\n",
       "median     | 3342.44 | 3084.41 | 260.932        | 258.029\n",
       "mean       | 3344.3  | 3084.13 | 260.173        | 260.173\n",
       "thirdQtile | 3321.98 | 3065.69 | 231.516        | 256.29\n",
       "max        | 3464.28 | 3170.71 | 401.404        | 293.573"
      ]
     },
     "execution_count": 38,
     "metadata": {},
     "output_type": "execute_result"
    }
   ],
   "source": [
    "# the bottom line\n",
    "summary"
   ]
  },
  {
   "cell_type": "markdown",
   "metadata": {},
   "source": [
    "## Visualizing the separation of these distributions"
   ]
  },
  {
   "cell_type": "code",
   "execution_count": 39,
   "metadata": {
    "collapsed": false
   },
   "outputs": [
    {
     "data": {
      "image/png": "[encoded data removed]",
      "text/plain": [
       "<matplotlib.figure.Figure at 0x112bc55f8>"
      ]
     },
     "metadata": {},
     "output_type": "display_data"
    }
   ],
   "source": [
    "weights_40.select(['smoke','nosmoke']).hist(overlay=True,bins=30,normed=True)  "
   ]
  },
  {
   "cell_type": "markdown",
   "metadata": {},
   "source": [
    "# Empirical p-values\n",
    "\n",
    "A more formal approach would be to take as the null hypothesis that smoking does not affect the birthweight.  Repeatedly split the data into random halves and model the birthweight difference.  What is the chance that the difference we see in summary table is an artifact?"
   ]
  },
  {
   "cell_type": "code",
   "execution_count": 40,
   "metadata": {
    "collapsed": false
   },
   "outputs": [],
   "source": [
    "# As an example, split the original data into two random halves\n",
    "A, B = births.split(births.num_rows//2)"
   ]
  },
  {
   "cell_type": "code",
   "execution_count": 41,
   "metadata": {
    "collapsed": false
   },
   "outputs": [
    {
     "data": {
      "text/html": [
       "<table border=\"1\" class=\"dataframe\">\n",
       "    <thead>\n",
       "        <tr>\n",
       "            <th>Wgt</th> <th>Gest</th> <th>Smoke</th>\n",
       "        </tr>\n",
       "    </thead>\n",
       "    <tbody>\n",
       "        <tr>\n",
       "            <td>3175</td> <td>41  </td> <td>1    </td>\n",
       "        </tr>\n",
       "    </tbody>\n",
       "        <tr>\n",
       "            <td>3459</td> <td>40  </td> <td>0    </td>\n",
       "        </tr>\n",
       "    </tbody>\n",
       "        <tr>\n",
       "            <td>2420</td> <td>36  </td> <td>1    </td>\n",
       "        </tr>\n",
       "    </tbody>\n",
       "        <tr>\n",
       "            <td>3040</td> <td>37  </td> <td>0    </td>\n",
       "        </tr>\n",
       "    </tbody>\n",
       "        <tr>\n",
       "            <td>2715</td> <td>36  </td> <td>1    </td>\n",
       "        </tr>\n",
       "    </tbody>\n",
       "        <tr>\n",
       "            <td>3322</td> <td>39  </td> <td>0    </td>\n",
       "        </tr>\n",
       "    </tbody>\n",
       "        <tr>\n",
       "            <td>2957</td> <td>39  </td> <td>1    </td>\n",
       "        </tr>\n",
       "    </tbody>\n",
       "        <tr>\n",
       "            <td>3244</td> <td>39  </td> <td>0    </td>\n",
       "        </tr>\n",
       "    </tbody>\n",
       "        <tr>\n",
       "            <td>2928</td> <td>39  </td> <td>1    </td>\n",
       "        </tr>\n",
       "    </tbody>\n",
       "        <tr>\n",
       "            <td>3095</td> <td>39  </td> <td>0    </td>\n",
       "        </tr>\n",
       "    </tbody>\n",
       "</table>\n",
       "<p>... (6 rows omitted)</p"
      ],
      "text/plain": [
       "Wgt  | Gest | Smoke\n",
       "3175 | 41   | 1\n",
       "3459 | 40   | 0\n",
       "2420 | 36   | 1\n",
       "3040 | 37   | 0\n",
       "2715 | 36   | 1\n",
       "3322 | 39   | 0\n",
       "2957 | 39   | 1\n",
       "3244 | 39   | 0\n",
       "2928 | 39   | 1\n",
       "3095 | 39   | 0\n",
       "... (6 rows omitted)"
      ]
     },
     "execution_count": 41,
     "metadata": {},
     "output_type": "execute_result"
    }
   ],
   "source": [
    "A"
   ]
  },
  {
   "cell_type": "code",
   "execution_count": 42,
   "metadata": {
    "collapsed": false
   },
   "outputs": [
    {
     "data": {
      "text/html": [
       "<table border=\"1\" class=\"dataframe\">\n",
       "    <thead>\n",
       "        <tr>\n",
       "            <th>Wgt</th> <th>Gest</th> <th>Smoke</th>\n",
       "        </tr>\n",
       "    </thead>\n",
       "    <tbody>\n",
       "        <tr>\n",
       "            <td>3530</td> <td>42  </td> <td>0    </td>\n",
       "        </tr>\n",
       "    </tbody>\n",
       "        <tr>\n",
       "            <td>3130</td> <td>39  </td> <td>1    </td>\n",
       "        </tr>\n",
       "    </tbody>\n",
       "        <tr>\n",
       "            <td>2841</td> <td>36  </td> <td>0    </td>\n",
       "        </tr>\n",
       "    </tbody>\n",
       "        <tr>\n",
       "            <td>3446</td> <td>42  </td> <td>1    </td>\n",
       "        </tr>\n",
       "    </tbody>\n",
       "        <tr>\n",
       "            <td>2580</td> <td>38  </td> <td>1    </td>\n",
       "        </tr>\n",
       "    </tbody>\n",
       "        <tr>\n",
       "            <td>3410</td> <td>40  </td> <td>0    </td>\n",
       "        </tr>\n",
       "    </tbody>\n",
       "        <tr>\n",
       "            <td>2920</td> <td>38  </td> <td>0    </td>\n",
       "        </tr>\n",
       "    </tbody>\n",
       "        <tr>\n",
       "            <td>2760</td> <td>39  </td> <td>1    </td>\n",
       "        </tr>\n",
       "    </tbody>\n",
       "        <tr>\n",
       "            <td>3523</td> <td>41  </td> <td>0    </td>\n",
       "        </tr>\n",
       "    </tbody>\n",
       "        <tr>\n",
       "            <td>2740</td> <td>38  </td> <td>1    </td>\n",
       "        </tr>\n",
       "    </tbody>\n",
       "</table>\n",
       "<p>... (6 rows omitted)</p"
      ],
      "text/plain": [
       "Wgt  | Gest | Smoke\n",
       "3530 | 42   | 0\n",
       "3130 | 39   | 1\n",
       "2841 | 36   | 0\n",
       "3446 | 42   | 1\n",
       "2580 | 38   | 1\n",
       "3410 | 40   | 0\n",
       "2920 | 38   | 0\n",
       "2760 | 39   | 1\n",
       "3523 | 41   | 0\n",
       "2740 | 38   | 1\n",
       "... (6 rows omitted)"
      ]
     },
     "execution_count": 42,
     "metadata": {},
     "output_type": "execute_result"
    }
   ],
   "source": [
    "B"
   ]
  },
  {
   "cell_type": "code",
   "execution_count": 43,
   "metadata": {
    "collapsed": false
   },
   "outputs": [
    {
     "data": {
      "text/plain": [
       "3212.4761904761881"
      ]
     },
     "execution_count": 43,
     "metadata": {},
     "output_type": "execute_result"
    }
   ],
   "source": [
    "make_lm(A['Gest'], A['Wgt'])(40)"
   ]
  },
  {
   "cell_type": "code",
   "execution_count": 44,
   "metadata": {
    "collapsed": false
   },
   "outputs": [
    {
     "data": {
      "text/plain": [
       "3174.8721804511288"
      ]
     },
     "execution_count": 44,
     "metadata": {},
     "output_type": "execute_result"
    }
   ],
   "source": [
    "make_lm(B['Gest'], B['Wgt'])(40)"
   ]
  },
  {
   "cell_type": "markdown",
   "metadata": {},
   "source": [
    "## Capturing statistical computations and general tools\n",
    "\n",
    "Rather than compute the null hypothesis for this particular table, we can build a very general tool, as a function, that will do it in general.\n",
    "\n",
    "Then we can use it to build a sample distribution under the null hypothesis"
   ]
  },
  {
   "cell_type": "code",
   "execution_count": 45,
   "metadata": {
    "collapsed": true
   },
   "outputs": [],
   "source": [
    "def null_diff_at(tbl, x, y, w):\n",
    "    A, B = tbl.split(tbl.num_rows//2)\n",
    "    return make_lm(A[x], A[y])(w) - make_lm(B[x], B[y])(w)"
   ]
  },
  {
   "cell_type": "code",
   "execution_count": 46,
   "metadata": {
    "collapsed": false
   },
   "outputs": [
    {
     "data": {
      "text/plain": [
       "21.556415688831294"
      ]
     },
     "execution_count": 46,
     "metadata": {},
     "output_type": "execute_result"
    }
   ],
   "source": [
    "null_diff_at(births, 'Gest', 'Wgt', 40)"
   ]
  },
  {
   "cell_type": "code",
   "execution_count": 47,
   "metadata": {
    "collapsed": false
   },
   "outputs": [
    {
     "data": {
      "image/png": "[encoded data removed]",
      "text/plain": [
       "<matplotlib.figure.Figure at 0x113a3fd30>"
      ]
     },
     "metadata": {},
     "output_type": "display_data"
    }
   ],
   "source": [
    "null = Table().with_column('Diff', [null_diff_at(births, 'Gest', 'Wgt', 40) for i in range(1000)])\n",
    "null.hist()"
   ]
  },
  {
   "cell_type": "markdown",
   "metadata": {},
   "source": [
    "What is the probablility that we got a 260g difference in birthweight at 40 weeks as an artifact of the sample?\n",
    "\n",
    "Zero"
   ]
  },
  {
   "cell_type": "code",
   "execution_count": 48,
   "metadata": {
    "collapsed": false
   },
   "outputs": [
    {
     "data": {
      "text/html": [
       "<table border=\"1\" class=\"dataframe\">\n",
       "    <thead>\n",
       "        <tr>\n",
       "            <th>statistic</th> <th>Diff</th>\n",
       "        </tr>\n",
       "    </thead>\n",
       "    <tbody>\n",
       "        <tr>\n",
       "            <td>min      </td> <td>-233.477</td>\n",
       "        </tr>\n",
       "    </tbody>\n",
       "        <tr>\n",
       "            <td>max      </td> <td>224.563 </td>\n",
       "        </tr>\n",
       "    </tbody>\n",
       "        <tr>\n",
       "            <td>median   </td> <td>1.10395 </td>\n",
       "        </tr>\n",
       "    </tbody>\n",
       "        <tr>\n",
       "            <td>sum      </td> <td>-1725.1 </td>\n",
       "        </tr>\n",
       "    </tbody>\n",
       "</table>"
      ],
      "text/plain": [
       "statistic | Diff\n",
       "min       | -233.477\n",
       "max       | 224.563\n",
       "median    | 1.10395\n",
       "sum       | -1725.1"
      ]
     },
     "execution_count": 48,
     "metadata": {},
     "output_type": "execute_result"
    }
   ],
   "source": [
    "null.stats()"
   ]
  },
  {
   "cell_type": "code",
   "execution_count": null,
   "metadata": {
    "collapsed": true
   },
   "outputs": [],
   "source": []
  }
 ],
 "metadata": {
  "kernelspec": {
   "display_name": "Python 3",
   "language": "python",
   "name": "python3"
  },
  "language_info": {
   "codemirror_mode": {
    "name": "ipython",
    "version": 3
   },
   "file_extension": ".py",
   "mimetype": "text/x-python",
   "name": "python",
   "nbconvert_exporter": "python",
   "pygments_lexer": "ipython3",
   "version": "3.5.1"
  }
 },
 "nbformat": 4,
 "nbformat_minor": 0
}
