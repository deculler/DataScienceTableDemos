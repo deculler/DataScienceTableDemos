{
 "cells": [
  {
   "cell_type": "markdown",
   "metadata": {},
   "source": [
    "This notebook illustrates the use of tables in conveying the combination of inferential and computational thinking through studying concepts of probability theory.  It the Birthday Surprise as a running example, based on a lecture by Ani Adhikari in http://data8.org/"
   ]
  },
  {
   "cell_type": "code",
   "execution_count": 1,
   "metadata": {
    "collapsed": false
   },
   "outputs": [
    {
     "data": {
      "text/plain": [
       "'0.5.19'"
      ]
     },
     "execution_count": 1,
     "metadata": {},
     "output_type": "execute_result"
    }
   ],
   "source": [
    "# HIDDEN\n",
    "from datascience import *\n",
    "%matplotlib inline\n",
    "import matplotlib.pyplot as plots\n",
    "plots.style.use('fivethirtyeight')\n",
    "import numpy as np\n",
    "# datascience version number of last run of this notebook\n",
    "version.__version__"
   ]
  },
  {
   "cell_type": "markdown",
   "metadata": {},
   "source": [
    "Inferential thinking.  I sit down next to a random person in class, what is the chance that I have the same birthday as that person?"
   ]
  },
  {
   "cell_type": "code",
   "execution_count": 2,
   "metadata": {
    "collapsed": false
   },
   "outputs": [
    {
     "data": {
      "text/plain": [
       "0.9972602739726028"
      ]
     },
     "execution_count": 2,
     "metadata": {},
     "output_type": "execute_result"
    }
   ],
   "source": [
    "# what is the chance that we have different birthdays?\n",
    "364/365"
   ]
  },
  {
   "cell_type": "code",
   "execution_count": 3,
   "metadata": {
    "collapsed": false
   },
   "outputs": [
    {
     "data": {
      "text/plain": [
       "0.002739726027397249"
      ]
     },
     "execution_count": 3,
     "metadata": {},
     "output_type": "execute_result"
    }
   ],
   "source": [
    "# what is the chance that we have the same birdthday?\n",
    "1 - 364/365"
   ]
  },
  {
   "cell_type": "code",
   "execution_count": 4,
   "metadata": {
    "collapsed": false
   },
   "outputs": [
    {
     "data": {
      "text/plain": [
       "0.9917958341152187"
      ]
     },
     "execution_count": 4,
     "metadata": {},
     "output_type": "execute_result"
    }
   ],
   "source": [
    "# what is the chance that my birthday is different from both my neighbors?\n",
    "(364/365) * (363/365)"
   ]
  },
  {
   "cell_type": "code",
   "execution_count": 5,
   "metadata": {
    "collapsed": false
   },
   "outputs": [
    {
     "data": {
      "text/plain": [
       "0.008204165884781345"
      ]
     },
     "execution_count": 5,
     "metadata": {},
     "output_type": "execute_result"
    }
   ],
   "source": [
    "# the same as one of them?\n",
    "1 - (364/365) * (363/365)"
   ]
  },
  {
   "cell_type": "code",
   "execution_count": 6,
   "metadata": {
    "collapsed": false
   },
   "outputs": [
    {
     "data": {
      "text/plain": [
       "0.02713557369979347"
      ]
     },
     "execution_count": 6,
     "metadata": {},
     "output_type": "execute_result"
    }
   ],
   "source": [
    "# the same as one of my four neighbors?\n",
    "1 - (364/365) * (363/365) * (362/365) * (361/365)"
   ]
  },
  {
   "cell_type": "markdown",
   "metadata": {},
   "source": [
    "Wow, nearly 3%?"
   ]
  },
  {
   "cell_type": "markdown",
   "metadata": {},
   "source": [
    "Computational thinking?  For a group of N people, what is the probability that at least two of them have the same birthday?  An algorithmic question.  Given K people with different birthdays, what is the probability that the next random person will have a different birthday than any of them?  If we can answer this single step, we have a way to answer the general question?  Yes, it is like induction.  But it is constructive too.  That's an algorithm."
   ]
  },
  {
   "cell_type": "markdown",
   "metadata": {},
   "source": [
    "Let's create a little table, kind of like what might think of as a spreadsheet, to collect all of our computational and inferential thoughts about solving this problem."
   ]
  },
  {
   "cell_type": "code",
   "execution_count": 7,
   "metadata": {
    "collapsed": false
   },
   "outputs": [],
   "source": [
    "bday = Table()"
   ]
  },
  {
   "cell_type": "code",
   "execution_count": 8,
   "metadata": {
    "collapsed": true
   },
   "outputs": [],
   "source": [
    "# lets start with numbering the days in the year (we'll start with zero).  We don't care if they are\n",
    "# in calendar order, backwars, sideways or the ways that we encounter them in meeting random people\n",
    "bday[\"day\"] = range(365)"
   ]
  },
  {
   "cell_type": "code",
   "execution_count": 9,
   "metadata": {
    "collapsed": false
   },
   "outputs": [
    {
     "data": {
      "text/html": [
       "<table border=\"1\" class=\"dataframe\">\n",
       "    <thead>\n",
       "        <tr>\n",
       "            <th>day</th>\n",
       "        </tr>\n",
       "    </thead>\n",
       "    <tbody>\n",
       "        <tr>\n",
       "            <td>0   </td>\n",
       "        </tr>\n",
       "    </tbody>\n",
       "        <tr>\n",
       "            <td>1   </td>\n",
       "        </tr>\n",
       "    </tbody>\n",
       "        <tr>\n",
       "            <td>2   </td>\n",
       "        </tr>\n",
       "    </tbody>\n",
       "        <tr>\n",
       "            <td>3   </td>\n",
       "        </tr>\n",
       "    </tbody>\n",
       "        <tr>\n",
       "            <td>4   </td>\n",
       "        </tr>\n",
       "    </tbody>\n",
       "        <tr>\n",
       "            <td>5   </td>\n",
       "        </tr>\n",
       "    </tbody>\n",
       "        <tr>\n",
       "            <td>6   </td>\n",
       "        </tr>\n",
       "    </tbody>\n",
       "        <tr>\n",
       "            <td>7   </td>\n",
       "        </tr>\n",
       "    </tbody>\n",
       "        <tr>\n",
       "            <td>8   </td>\n",
       "        </tr>\n",
       "    </tbody>\n",
       "        <tr>\n",
       "            <td>9   </td>\n",
       "        </tr>\n",
       "    </tbody>\n",
       "</table>\n",
       "<p>... (355 rows omitted)</p"
      ],
      "text/plain": [
       "day\n",
       "0\n",
       "1\n",
       "2\n",
       "3\n",
       "4\n",
       "5\n",
       "6\n",
       "7\n",
       "8\n",
       "9\n",
       "... (355 rows omitted)"
      ]
     },
     "execution_count": 9,
     "metadata": {},
     "output_type": "execute_result"
    }
   ],
   "source": [
    "bday"
   ]
  },
  {
   "cell_type": "markdown",
   "metadata": {},
   "source": [
    "Cool, we have a column of the days, but its pretty long and we can see them all on the page, but a graph is a great way to summarize things, so let's look at what we have."
   ]
  },
  {
   "cell_type": "code",
   "execution_count": 10,
   "metadata": {
    "collapsed": false
   },
   "outputs": [
    {
     "data": {
      "image/png": "[encoded data removed]",
      "text/plain": [
       "<matplotlib.figure.Figure at 0x10fc2c048>"
      ]
     },
     "metadata": {},
     "output_type": "display_data"
    }
   ],
   "source": [
    "bday.plot()"
   ]
  },
  {
   "cell_type": "markdown",
   "metadata": {},
   "source": [
    "Yep, as easy as pi.  The days in a year.  But we really need those diminishing fractions of the days left in the year.  OK, that's easy, lets build a new column of the days that are left after we've seen some.  And let's look at what we've got"
   ]
  },
  {
   "cell_type": "code",
   "execution_count": 11,
   "metadata": {
    "collapsed": false
   },
   "outputs": [
    {
     "data": {
      "text/html": [
       "<table border=\"1\" class=\"dataframe\">\n",
       "    <thead>\n",
       "        <tr>\n",
       "            <th>day</th> <th>left</th>\n",
       "        </tr>\n",
       "    </thead>\n",
       "    <tbody>\n",
       "        <tr>\n",
       "            <td>0   </td> <td>364 </td>\n",
       "        </tr>\n",
       "    </tbody>\n",
       "        <tr>\n",
       "            <td>1   </td> <td>363 </td>\n",
       "        </tr>\n",
       "    </tbody>\n",
       "        <tr>\n",
       "            <td>2   </td> <td>362 </td>\n",
       "        </tr>\n",
       "    </tbody>\n",
       "        <tr>\n",
       "            <td>3   </td> <td>361 </td>\n",
       "        </tr>\n",
       "    </tbody>\n",
       "        <tr>\n",
       "            <td>4   </td> <td>360 </td>\n",
       "        </tr>\n",
       "    </tbody>\n",
       "        <tr>\n",
       "            <td>5   </td> <td>359 </td>\n",
       "        </tr>\n",
       "    </tbody>\n",
       "        <tr>\n",
       "            <td>6   </td> <td>358 </td>\n",
       "        </tr>\n",
       "    </tbody>\n",
       "        <tr>\n",
       "            <td>7   </td> <td>357 </td>\n",
       "        </tr>\n",
       "    </tbody>\n",
       "        <tr>\n",
       "            <td>8   </td> <td>356 </td>\n",
       "        </tr>\n",
       "    </tbody>\n",
       "        <tr>\n",
       "            <td>9   </td> <td>355 </td>\n",
       "        </tr>\n",
       "    </tbody>\n",
       "</table>\n",
       "<p>... (355 rows omitted)</p"
      ],
      "text/plain": [
       "day  | left\n",
       "0    | 364\n",
       "1    | 363\n",
       "2    | 362\n",
       "3    | 361\n",
       "4    | 360\n",
       "5    | 359\n",
       "6    | 358\n",
       "7    | 357\n",
       "8    | 356\n",
       "9    | 355\n",
       "... (355 rows omitted)"
      ]
     },
     "execution_count": 11,
     "metadata": {},
     "output_type": "execute_result"
    }
   ],
   "source": [
    "bday['left']= 364-bday['day']\n",
    "bday"
   ]
  },
  {
   "cell_type": "code",
   "execution_count": 12,
   "metadata": {
    "collapsed": false
   },
   "outputs": [
    {
     "data": {
      "image/png": "[encoded data removed]",
      "text/plain": [
       "<matplotlib.figure.Figure at 0x10723e160>"
      ]
     },
     "metadata": {},
     "output_type": "display_data"
    }
   ],
   "source": [
    "#of course, we could plot these\n",
    "bday.plot()"
   ]
  },
  {
   "cell_type": "code",
   "execution_count": 13,
   "metadata": {
    "collapsed": false
   },
   "outputs": [
    {
     "data": {
      "image/png": "[encoded data removed]",
      "text/plain": [
       "<matplotlib.figure.Figure at 0x11256bf28>"
      ]
     },
     "metadata": {},
     "output_type": "display_data"
    }
   ],
   "source": [
    "# or on top of each other\n",
    "bday.plot(overlay=True)"
   ]
  },
  {
   "cell_type": "markdown",
   "metadata": {},
   "source": [
    "After we have k people with different birthdays, we have 365-k possible days left.  But what we really want is the fraction of days in the year left.  Obviously, divide by the number of days in the year.  Let's do that and see where we are."
   ]
  },
  {
   "cell_type": "code",
   "execution_count": 14,
   "metadata": {
    "collapsed": false
   },
   "outputs": [
    {
     "data": {
      "text/html": [
       "<table border=\"1\" class=\"dataframe\">\n",
       "    <thead>\n",
       "        <tr>\n",
       "            <th>day</th> <th>left</th> <th>frac</th>\n",
       "        </tr>\n",
       "    </thead>\n",
       "    <tbody>\n",
       "        <tr>\n",
       "            <td>0   </td> <td>364 </td> <td>0.99726 </td>\n",
       "        </tr>\n",
       "    </tbody>\n",
       "        <tr>\n",
       "            <td>1   </td> <td>363 </td> <td>0.994521</td>\n",
       "        </tr>\n",
       "    </tbody>\n",
       "        <tr>\n",
       "            <td>2   </td> <td>362 </td> <td>0.991781</td>\n",
       "        </tr>\n",
       "    </tbody>\n",
       "        <tr>\n",
       "            <td>3   </td> <td>361 </td> <td>0.989041</td>\n",
       "        </tr>\n",
       "    </tbody>\n",
       "        <tr>\n",
       "            <td>4   </td> <td>360 </td> <td>0.986301</td>\n",
       "        </tr>\n",
       "    </tbody>\n",
       "        <tr>\n",
       "            <td>5   </td> <td>359 </td> <td>0.983562</td>\n",
       "        </tr>\n",
       "    </tbody>\n",
       "        <tr>\n",
       "            <td>6   </td> <td>358 </td> <td>0.980822</td>\n",
       "        </tr>\n",
       "    </tbody>\n",
       "        <tr>\n",
       "            <td>7   </td> <td>357 </td> <td>0.978082</td>\n",
       "        </tr>\n",
       "    </tbody>\n",
       "        <tr>\n",
       "            <td>8   </td> <td>356 </td> <td>0.975342</td>\n",
       "        </tr>\n",
       "    </tbody>\n",
       "        <tr>\n",
       "            <td>9   </td> <td>355 </td> <td>0.972603</td>\n",
       "        </tr>\n",
       "    </tbody>\n",
       "</table>\n",
       "<p>... (355 rows omitted)</p"
      ],
      "text/plain": [
       "day  | left | frac\n",
       "0    | 364  | 0.99726\n",
       "1    | 363  | 0.994521\n",
       "2    | 362  | 0.991781\n",
       "3    | 361  | 0.989041\n",
       "4    | 360  | 0.986301\n",
       "5    | 359  | 0.983562\n",
       "6    | 358  | 0.980822\n",
       "7    | 357  | 0.978082\n",
       "8    | 356  | 0.975342\n",
       "9    | 355  | 0.972603\n",
       "... (355 rows omitted)"
      ]
     },
     "execution_count": 14,
     "metadata": {},
     "output_type": "execute_result"
    }
   ],
   "source": [
    "bday['frac']=bday['left']/365\n",
    "bday"
   ]
  },
  {
   "cell_type": "markdown",
   "metadata": {},
   "source": [
    "OK, that looks like its going from 1 to 0 just as we'd expect.  And we can see how things are working together, just as we might in a spread sheet.  We can focus on the data that comes out of the computation.  In a spreadsheet this would be all spread around in the cells.  Here the computation is clearly laid out and we can see how it progresses from one step to the next by building up the table. \n",
    "\n",
    "We might want to select just 'fraction left' to look at."
   ]
  },
  {
   "cell_type": "code",
   "execution_count": 15,
   "metadata": {
    "collapsed": false
   },
   "outputs": [
    {
     "data": {
      "image/png": "[encoded data removed]",
      "text/plain": [
       "<matplotlib.figure.Figure at 0x1126782e8>"
      ]
     },
     "metadata": {},
     "output_type": "display_data"
    }
   ],
   "source": [
    "bday.select('frac').plot()"
   ]
  },
  {
   "cell_type": "markdown",
   "metadata": {},
   "source": [
    "Ah, but remember the inferential part.  Given k people, what is the probability they all have different birthdays.  That's the product of these diminishing fractions."
   ]
  },
  {
   "cell_type": "code",
   "execution_count": 16,
   "metadata": {
    "collapsed": false
   },
   "outputs": [
    {
     "data": {
      "text/plain": [
       "array([ 0.99726027,  0.99452055,  0.99178082,  0.9890411 ,  0.98630137,\n",
       "        0.98356164,  0.98082192,  0.97808219,  0.97534247,  0.97260274,\n",
       "        0.96986301,  0.96712329,  0.96438356,  0.96164384,  0.95890411,\n",
       "        0.95616438,  0.95342466,  0.95068493,  0.94794521,  0.94520548,\n",
       "        0.94246575,  0.93972603,  0.9369863 ,  0.93424658,  0.93150685,\n",
       "        0.92876712,  0.9260274 ,  0.92328767,  0.92054795,  0.91780822,\n",
       "        0.91506849,  0.91232877,  0.90958904,  0.90684932,  0.90410959,\n",
       "        0.90136986,  0.89863014,  0.89589041,  0.89315068,  0.89041096,\n",
       "        0.88767123,  0.88493151,  0.88219178,  0.87945205,  0.87671233,\n",
       "        0.8739726 ,  0.87123288,  0.86849315,  0.86575342,  0.8630137 ,\n",
       "        0.86027397,  0.85753425,  0.85479452,  0.85205479,  0.84931507,\n",
       "        0.84657534,  0.84383562,  0.84109589,  0.83835616,  0.83561644,\n",
       "        0.83287671,  0.83013699,  0.82739726,  0.82465753,  0.82191781,\n",
       "        0.81917808,  0.81643836,  0.81369863,  0.8109589 ,  0.80821918,\n",
       "        0.80547945,  0.80273973,  0.8       ,  0.79726027,  0.79452055,\n",
       "        0.79178082,  0.7890411 ,  0.78630137,  0.78356164,  0.78082192,\n",
       "        0.77808219,  0.77534247,  0.77260274,  0.76986301,  0.76712329,\n",
       "        0.76438356,  0.76164384,  0.75890411,  0.75616438,  0.75342466,\n",
       "        0.75068493,  0.74794521,  0.74520548,  0.74246575,  0.73972603,\n",
       "        0.7369863 ,  0.73424658,  0.73150685,  0.72876712,  0.7260274 ,\n",
       "        0.72328767,  0.72054795,  0.71780822,  0.71506849,  0.71232877,\n",
       "        0.70958904,  0.70684932,  0.70410959,  0.70136986,  0.69863014,\n",
       "        0.69589041,  0.69315068,  0.69041096,  0.68767123,  0.68493151,\n",
       "        0.68219178,  0.67945205,  0.67671233,  0.6739726 ,  0.67123288,\n",
       "        0.66849315,  0.66575342,  0.6630137 ,  0.66027397,  0.65753425,\n",
       "        0.65479452,  0.65205479,  0.64931507,  0.64657534,  0.64383562,\n",
       "        0.64109589,  0.63835616,  0.63561644,  0.63287671,  0.63013699,\n",
       "        0.62739726,  0.62465753,  0.62191781,  0.61917808,  0.61643836,\n",
       "        0.61369863,  0.6109589 ,  0.60821918,  0.60547945,  0.60273973,\n",
       "        0.6       ,  0.59726027,  0.59452055,  0.59178082,  0.5890411 ,\n",
       "        0.58630137,  0.58356164,  0.58082192,  0.57808219,  0.57534247,\n",
       "        0.57260274,  0.56986301,  0.56712329,  0.56438356,  0.56164384,\n",
       "        0.55890411,  0.55616438,  0.55342466,  0.55068493,  0.54794521,\n",
       "        0.54520548,  0.54246575,  0.53972603,  0.5369863 ,  0.53424658,\n",
       "        0.53150685,  0.52876712,  0.5260274 ,  0.52328767,  0.52054795,\n",
       "        0.51780822,  0.51506849,  0.51232877,  0.50958904,  0.50684932,\n",
       "        0.50410959,  0.50136986,  0.49863014,  0.49589041,  0.49315068,\n",
       "        0.49041096,  0.48767123,  0.48493151,  0.48219178,  0.47945205,\n",
       "        0.47671233,  0.4739726 ,  0.47123288,  0.46849315,  0.46575342,\n",
       "        0.4630137 ,  0.46027397,  0.45753425,  0.45479452,  0.45205479,\n",
       "        0.44931507,  0.44657534,  0.44383562,  0.44109589,  0.43835616,\n",
       "        0.43561644,  0.43287671,  0.43013699,  0.42739726,  0.42465753,\n",
       "        0.42191781,  0.41917808,  0.41643836,  0.41369863,  0.4109589 ,\n",
       "        0.40821918,  0.40547945,  0.40273973,  0.4       ,  0.39726027,\n",
       "        0.39452055,  0.39178082,  0.3890411 ,  0.38630137,  0.38356164,\n",
       "        0.38082192,  0.37808219,  0.37534247,  0.37260274,  0.36986301,\n",
       "        0.36712329,  0.36438356,  0.36164384,  0.35890411,  0.35616438,\n",
       "        0.35342466,  0.35068493,  0.34794521,  0.34520548,  0.34246575,\n",
       "        0.33972603,  0.3369863 ,  0.33424658,  0.33150685,  0.32876712,\n",
       "        0.3260274 ,  0.32328767,  0.32054795,  0.31780822,  0.31506849,\n",
       "        0.31232877,  0.30958904,  0.30684932,  0.30410959,  0.30136986,\n",
       "        0.29863014,  0.29589041,  0.29315068,  0.29041096,  0.28767123,\n",
       "        0.28493151,  0.28219178,  0.27945205,  0.27671233,  0.2739726 ,\n",
       "        0.27123288,  0.26849315,  0.26575342,  0.2630137 ,  0.26027397,\n",
       "        0.25753425,  0.25479452,  0.25205479,  0.24931507,  0.24657534,\n",
       "        0.24383562,  0.24109589,  0.23835616,  0.23561644,  0.23287671,\n",
       "        0.23013699,  0.22739726,  0.22465753,  0.22191781,  0.21917808,\n",
       "        0.21643836,  0.21369863,  0.2109589 ,  0.20821918,  0.20547945,\n",
       "        0.20273973,  0.2       ,  0.19726027,  0.19452055,  0.19178082,\n",
       "        0.1890411 ,  0.18630137,  0.18356164,  0.18082192,  0.17808219,\n",
       "        0.17534247,  0.17260274,  0.16986301,  0.16712329,  0.16438356,\n",
       "        0.16164384,  0.15890411,  0.15616438,  0.15342466,  0.15068493,\n",
       "        0.14794521,  0.14520548,  0.14246575,  0.13972603,  0.1369863 ,\n",
       "        0.13424658,  0.13150685,  0.12876712,  0.1260274 ,  0.12328767,\n",
       "        0.12054795,  0.11780822,  0.11506849,  0.11232877,  0.10958904,\n",
       "        0.10684932,  0.10410959,  0.10136986,  0.09863014,  0.09589041,\n",
       "        0.09315068,  0.09041096,  0.08767123,  0.08493151,  0.08219178,\n",
       "        0.07945205,  0.07671233,  0.0739726 ,  0.07123288,  0.06849315,\n",
       "        0.06575342,  0.0630137 ,  0.06027397,  0.05753425,  0.05479452,\n",
       "        0.05205479,  0.04931507,  0.04657534,  0.04383562,  0.04109589,\n",
       "        0.03835616,  0.03561644,  0.03287671,  0.03013699,  0.02739726,\n",
       "        0.02465753,  0.02191781,  0.01917808,  0.01643836,  0.01369863,\n",
       "        0.0109589 ,  0.00821918,  0.00547945,  0.00273973,  0.        ])"
      ]
     },
     "execution_count": 16,
     "metadata": {},
     "output_type": "execute_result"
    }
   ],
   "source": [
    "# each column in our table is really a sequence of values\n",
    "bday[\"frac\"]"
   ]
  },
  {
   "cell_type": "markdown",
   "metadata": {},
   "source": [
    "Phew that's a lot of numbers... tables gives us a little peek, but we can always look into it for more.  Sure beats scrolling through 365 rows in excel!\n",
    "\n",
    "So we need something to take the running product of a bunch of numbers.  These things you'll learn to just build.  But lots of folks built useful ones already.  That's a beautiful thing about computing - you can naturally build on the work of others. Here we'll use the 'cumulative product' tool from the 'numpy' library.  Don't worry you'll see that later.  The important thing it that it does what we did for 2, 3 or 4 neighbors - but for all of them."
   ]
  },
  {
   "cell_type": "code",
   "execution_count": 17,
   "metadata": {
    "collapsed": false
   },
   "outputs": [
    {
     "data": {
      "text/html": [
       "<table border=\"1\" class=\"dataframe\">\n",
       "    <thead>\n",
       "        <tr>\n",
       "            <th>day</th> <th>left</th> <th>frac</th> <th>different</th>\n",
       "        </tr>\n",
       "    </thead>\n",
       "    <tbody>\n",
       "        <tr>\n",
       "            <td>0   </td> <td>364 </td> <td>0.99726 </td> <td>0.99726  </td>\n",
       "        </tr>\n",
       "    </tbody>\n",
       "        <tr>\n",
       "            <td>1   </td> <td>363 </td> <td>0.994521</td> <td>0.991796 </td>\n",
       "        </tr>\n",
       "    </tbody>\n",
       "        <tr>\n",
       "            <td>2   </td> <td>362 </td> <td>0.991781</td> <td>0.983644 </td>\n",
       "        </tr>\n",
       "    </tbody>\n",
       "        <tr>\n",
       "            <td>3   </td> <td>361 </td> <td>0.989041</td> <td>0.972864 </td>\n",
       "        </tr>\n",
       "    </tbody>\n",
       "        <tr>\n",
       "            <td>4   </td> <td>360 </td> <td>0.986301</td> <td>0.959538 </td>\n",
       "        </tr>\n",
       "    </tbody>\n",
       "        <tr>\n",
       "            <td>5   </td> <td>359 </td> <td>0.983562</td> <td>0.943764 </td>\n",
       "        </tr>\n",
       "    </tbody>\n",
       "        <tr>\n",
       "            <td>6   </td> <td>358 </td> <td>0.980822</td> <td>0.925665 </td>\n",
       "        </tr>\n",
       "    </tbody>\n",
       "        <tr>\n",
       "            <td>7   </td> <td>357 </td> <td>0.978082</td> <td>0.905376 </td>\n",
       "        </tr>\n",
       "    </tbody>\n",
       "        <tr>\n",
       "            <td>8   </td> <td>356 </td> <td>0.975342</td> <td>0.883052 </td>\n",
       "        </tr>\n",
       "    </tbody>\n",
       "        <tr>\n",
       "            <td>9   </td> <td>355 </td> <td>0.972603</td> <td>0.858859 </td>\n",
       "        </tr>\n",
       "    </tbody>\n",
       "</table>\n",
       "<p>... (355 rows omitted)</p"
      ],
      "text/plain": [
       "day  | left | frac     | different\n",
       "0    | 364  | 0.99726  | 0.99726\n",
       "1    | 363  | 0.994521 | 0.991796\n",
       "2    | 362  | 0.991781 | 0.983644\n",
       "3    | 361  | 0.989041 | 0.972864\n",
       "4    | 360  | 0.986301 | 0.959538\n",
       "5    | 359  | 0.983562 | 0.943764\n",
       "6    | 358  | 0.980822 | 0.925665\n",
       "7    | 357  | 0.978082 | 0.905376\n",
       "8    | 356  | 0.975342 | 0.883052\n",
       "9    | 355  | 0.972603 | 0.858859\n",
       "... (355 rows omitted)"
      ]
     },
     "execution_count": 17,
     "metadata": {},
     "output_type": "execute_result"
    }
   ],
   "source": [
    "bday[\"different\"] = np.cumprod(bday[\"frac\"])\n",
    "bday"
   ]
  },
  {
   "cell_type": "code",
   "execution_count": 18,
   "metadata": {
    "collapsed": false
   },
   "outputs": [
    {
     "data": {
      "text/html": [
       "<table border=\"1\" class=\"dataframe\">\n",
       "    <thead>\n",
       "        <tr>\n",
       "            <th>day</th> <th>left</th> <th>frac</th> <th>different</th> <th>some same bday</th>\n",
       "        </tr>\n",
       "    </thead>\n",
       "    <tbody>\n",
       "        <tr>\n",
       "            <td>0   </td> <td>364 </td> <td>0.99726 </td> <td>0.99726  </td> <td>0.00273973    </td>\n",
       "        </tr>\n",
       "    </tbody>\n",
       "        <tr>\n",
       "            <td>1   </td> <td>363 </td> <td>0.994521</td> <td>0.991796 </td> <td>0.00820417    </td>\n",
       "        </tr>\n",
       "    </tbody>\n",
       "        <tr>\n",
       "            <td>2   </td> <td>362 </td> <td>0.991781</td> <td>0.983644 </td> <td>0.0163559     </td>\n",
       "        </tr>\n",
       "    </tbody>\n",
       "        <tr>\n",
       "            <td>3   </td> <td>361 </td> <td>0.989041</td> <td>0.972864 </td> <td>0.0271356     </td>\n",
       "        </tr>\n",
       "    </tbody>\n",
       "        <tr>\n",
       "            <td>4   </td> <td>360 </td> <td>0.986301</td> <td>0.959538 </td> <td>0.0404625     </td>\n",
       "        </tr>\n",
       "    </tbody>\n",
       "        <tr>\n",
       "            <td>5   </td> <td>359 </td> <td>0.983562</td> <td>0.943764 </td> <td>0.0562357     </td>\n",
       "        </tr>\n",
       "    </tbody>\n",
       "        <tr>\n",
       "            <td>6   </td> <td>358 </td> <td>0.980822</td> <td>0.925665 </td> <td>0.0743353     </td>\n",
       "        </tr>\n",
       "    </tbody>\n",
       "        <tr>\n",
       "            <td>7   </td> <td>357 </td> <td>0.978082</td> <td>0.905376 </td> <td>0.0946238     </td>\n",
       "        </tr>\n",
       "    </tbody>\n",
       "        <tr>\n",
       "            <td>8   </td> <td>356 </td> <td>0.975342</td> <td>0.883052 </td> <td>0.116948      </td>\n",
       "        </tr>\n",
       "    </tbody>\n",
       "        <tr>\n",
       "            <td>9   </td> <td>355 </td> <td>0.972603</td> <td>0.858859 </td> <td>0.141141      </td>\n",
       "        </tr>\n",
       "    </tbody>\n",
       "</table>\n",
       "<p>... (355 rows omitted)</p"
      ],
      "text/plain": [
       "day  | left | frac     | different | some same bday\n",
       "0    | 364  | 0.99726  | 0.99726   | 0.00273973\n",
       "1    | 363  | 0.994521 | 0.991796  | 0.00820417\n",
       "2    | 362  | 0.991781 | 0.983644  | 0.0163559\n",
       "3    | 361  | 0.989041 | 0.972864  | 0.0271356\n",
       "4    | 360  | 0.986301 | 0.959538  | 0.0404625\n",
       "5    | 359  | 0.983562 | 0.943764  | 0.0562357\n",
       "6    | 358  | 0.980822 | 0.925665  | 0.0743353\n",
       "7    | 357  | 0.978082 | 0.905376  | 0.0946238\n",
       "8    | 356  | 0.975342 | 0.883052  | 0.116948\n",
       "9    | 355  | 0.972603 | 0.858859  | 0.141141\n",
       "... (355 rows omitted)"
      ]
     },
     "execution_count": 18,
     "metadata": {},
     "output_type": "execute_result"
    }
   ],
   "source": [
    "# finally the probably that at least two people have the same birthday\n",
    "bday['some same bday'] = 1-bday['different']\n",
    "bday"
   ]
  },
  {
   "cell_type": "code",
   "execution_count": 19,
   "metadata": {
    "collapsed": false
   },
   "outputs": [
    {
     "data": {
      "image/png": "[encoded data removed]",
      "text/plain": [
       "<matplotlib.figure.Figure at 0x1129af668>"
      ]
     },
     "metadata": {},
     "output_type": "display_data"
    }
   ],
   "source": [
    "# so 14% with just ten people.  How about the whole story\n",
    "# Table.select produces a table containing only the selected columns\n",
    "bday.select('some same bday').plot()"
   ]
  },
  {
   "cell_type": "code",
   "execution_count": 20,
   "metadata": {
    "collapsed": false
   },
   "outputs": [
    {
     "data": {
      "text/html": [
       "<table border=\"1\" class=\"dataframe\">\n",
       "    <thead>\n",
       "        <tr>\n",
       "            <th>day</th> <th>left</th> <th>frac</th> <th>different</th> <th>some same bday</th>\n",
       "        </tr>\n",
       "    </thead>\n",
       "    <tbody>\n",
       "        <tr>\n",
       "            <td>0   </td> <td>364 </td> <td>0.99726 </td> <td>0.99726  </td> <td>0.00273973    </td>\n",
       "        </tr>\n",
       "    </tbody>\n",
       "        <tr>\n",
       "            <td>1   </td> <td>363 </td> <td>0.994521</td> <td>0.991796 </td> <td>0.00820417    </td>\n",
       "        </tr>\n",
       "    </tbody>\n",
       "        <tr>\n",
       "            <td>2   </td> <td>362 </td> <td>0.991781</td> <td>0.983644 </td> <td>0.0163559     </td>\n",
       "        </tr>\n",
       "    </tbody>\n",
       "        <tr>\n",
       "            <td>3   </td> <td>361 </td> <td>0.989041</td> <td>0.972864 </td> <td>0.0271356     </td>\n",
       "        </tr>\n",
       "    </tbody>\n",
       "        <tr>\n",
       "            <td>4   </td> <td>360 </td> <td>0.986301</td> <td>0.959538 </td> <td>0.0404625     </td>\n",
       "        </tr>\n",
       "    </tbody>\n",
       "        <tr>\n",
       "            <td>5   </td> <td>359 </td> <td>0.983562</td> <td>0.943764 </td> <td>0.0562357     </td>\n",
       "        </tr>\n",
       "    </tbody>\n",
       "        <tr>\n",
       "            <td>6   </td> <td>358 </td> <td>0.980822</td> <td>0.925665 </td> <td>0.0743353     </td>\n",
       "        </tr>\n",
       "    </tbody>\n",
       "        <tr>\n",
       "            <td>7   </td> <td>357 </td> <td>0.978082</td> <td>0.905376 </td> <td>0.0946238     </td>\n",
       "        </tr>\n",
       "    </tbody>\n",
       "        <tr>\n",
       "            <td>8   </td> <td>356 </td> <td>0.975342</td> <td>0.883052 </td> <td>0.116948      </td>\n",
       "        </tr>\n",
       "    </tbody>\n",
       "        <tr>\n",
       "            <td>9   </td> <td>355 </td> <td>0.972603</td> <td>0.858859 </td> <td>0.141141      </td>\n",
       "        </tr>\n",
       "    </tbody>\n",
       "</table>\n",
       "<p>... (40 rows omitted)</p"
      ],
      "text/plain": [
       "day  | left | frac     | different | some same bday\n",
       "0    | 364  | 0.99726  | 0.99726   | 0.00273973\n",
       "1    | 363  | 0.994521 | 0.991796  | 0.00820417\n",
       "2    | 362  | 0.991781 | 0.983644  | 0.0163559\n",
       "3    | 361  | 0.989041 | 0.972864  | 0.0271356\n",
       "4    | 360  | 0.986301 | 0.959538  | 0.0404625\n",
       "5    | 359  | 0.983562 | 0.943764  | 0.0562357\n",
       "6    | 358  | 0.980822 | 0.925665  | 0.0743353\n",
       "7    | 357  | 0.978082 | 0.905376  | 0.0946238\n",
       "8    | 356  | 0.975342 | 0.883052  | 0.116948\n",
       "9    | 355  | 0.972603 | 0.858859  | 0.141141\n",
       "... (40 rows omitted)"
      ]
     },
     "execution_count": 20,
     "metadata": {},
     "output_type": "execute_result"
    }
   ],
   "source": [
    "# wow, let's look at the start of that\n",
    "# Table.take produces a table containing the rows taken from a Table.\n",
    "bday.take(range(50))"
   ]
  },
  {
   "cell_type": "code",
   "execution_count": 21,
   "metadata": {
    "collapsed": false
   },
   "outputs": [
    {
     "data": {
      "image/png": "[encoded data removed]",
      "text/plain": [
       "<matplotlib.figure.Figure at 0x112a1ba58>"
      ]
     },
     "metadata": {},
     "output_type": "display_data"
    }
   ],
   "source": [
    "# Table methods generally produce new tables so they compose naturally.\n",
    "# Here to convey the essence of the Birthday Surprise\n",
    "bday.take(range(50)).select('some same bday').plot()"
   ]
  },
  {
   "cell_type": "code",
   "execution_count": 22,
   "metadata": {
    "collapsed": false
   },
   "outputs": [
    {
     "data": {
      "text/plain": [
       "0.4756953076625503"
      ]
     },
     "execution_count": 22,
     "metadata": {},
     "output_type": "execute_result"
    }
   ],
   "source": [
    "# Since indexing a column by its name gives an array, it can be indexed.\n",
    "bday['some same bday'][20]"
   ]
  },
  {
   "cell_type": "markdown",
   "metadata": {},
   "source": [
    "Now that we understanding this by building it up step by step, could we put it all into one place that we might call a program for answering this question?  Sure."
   ]
  },
  {
   "cell_type": "code",
   "execution_count": 23,
   "metadata": {
    "collapsed": false
   },
   "outputs": [
    {
     "data": {
      "image/png": "[encoded data removed]",
      "text/plain": [
       "<matplotlib.figure.Figure at 0x11269a128>"
      ]
     },
     "metadata": {},
     "output_type": "display_data"
    }
   ],
   "source": [
    "# altogether now like a real program\n",
    "bd = Table()\n",
    "bd[\"day\"] = range(365)\n",
    "bd['left']= 364-bd['day']\n",
    "bd['frac']=bd['left']/365\n",
    "bd[\"different\"] = np.cumprod(bd[\"frac\"])\n",
    "bd['some same bday'] = 1-bd['different']\n",
    "bd.select('some same bday').take(range(50)).plot()"
   ]
  },
  {
   "cell_type": "code",
   "execution_count": 24,
   "metadata": {
    "collapsed": false
   },
   "outputs": [
    {
     "data": {
      "text/html": [
       "<table border=\"1\" class=\"dataframe\">\n",
       "    <thead>\n",
       "        <tr>\n",
       "            <th>day</th> <th>left</th> <th>frac</th> <th>different</th> <th>some same bday</th>\n",
       "        </tr>\n",
       "    </thead>\n",
       "    <tbody>\n",
       "        <tr>\n",
       "            <td>0   </td> <td>364 </td> <td>0.99726 </td> <td>0.99726  </td> <td>0.00273973    </td>\n",
       "        </tr>\n",
       "    </tbody>\n",
       "        <tr>\n",
       "            <td>1   </td> <td>363 </td> <td>0.994521</td> <td>0.991796 </td> <td>0.00820417    </td>\n",
       "        </tr>\n",
       "    </tbody>\n",
       "        <tr>\n",
       "            <td>2   </td> <td>362 </td> <td>0.991781</td> <td>0.983644 </td> <td>0.0163559     </td>\n",
       "        </tr>\n",
       "    </tbody>\n",
       "        <tr>\n",
       "            <td>3   </td> <td>361 </td> <td>0.989041</td> <td>0.972864 </td> <td>0.0271356     </td>\n",
       "        </tr>\n",
       "    </tbody>\n",
       "        <tr>\n",
       "            <td>4   </td> <td>360 </td> <td>0.986301</td> <td>0.959538 </td> <td>0.0404625     </td>\n",
       "        </tr>\n",
       "    </tbody>\n",
       "        <tr>\n",
       "            <td>5   </td> <td>359 </td> <td>0.983562</td> <td>0.943764 </td> <td>0.0562357     </td>\n",
       "        </tr>\n",
       "    </tbody>\n",
       "        <tr>\n",
       "            <td>6   </td> <td>358 </td> <td>0.980822</td> <td>0.925665 </td> <td>0.0743353     </td>\n",
       "        </tr>\n",
       "    </tbody>\n",
       "        <tr>\n",
       "            <td>7   </td> <td>357 </td> <td>0.978082</td> <td>0.905376 </td> <td>0.0946238     </td>\n",
       "        </tr>\n",
       "    </tbody>\n",
       "        <tr>\n",
       "            <td>8   </td> <td>356 </td> <td>0.975342</td> <td>0.883052 </td> <td>0.116948      </td>\n",
       "        </tr>\n",
       "    </tbody>\n",
       "        <tr>\n",
       "            <td>9   </td> <td>355 </td> <td>0.972603</td> <td>0.858859 </td> <td>0.141141      </td>\n",
       "        </tr>\n",
       "    </tbody>\n",
       "</table>\n",
       "<p>... (355 rows omitted)</p"
      ],
      "text/plain": [
       "day  | left | frac     | different | some same bday\n",
       "0    | 364  | 0.99726  | 0.99726   | 0.00273973\n",
       "1    | 363  | 0.994521 | 0.991796  | 0.00820417\n",
       "2    | 362  | 0.991781 | 0.983644  | 0.0163559\n",
       "3    | 361  | 0.989041 | 0.972864  | 0.0271356\n",
       "4    | 360  | 0.986301 | 0.959538  | 0.0404625\n",
       "5    | 359  | 0.983562 | 0.943764  | 0.0562357\n",
       "6    | 358  | 0.980822 | 0.925665  | 0.0743353\n",
       "7    | 357  | 0.978082 | 0.905376  | 0.0946238\n",
       "8    | 356  | 0.975342 | 0.883052  | 0.116948\n",
       "9    | 355  | 0.972603 | 0.858859  | 0.141141\n",
       "... (355 rows omitted)"
      ]
     },
     "execution_count": 24,
     "metadata": {},
     "output_type": "execute_result"
    }
   ],
   "source": [
    "bd"
   ]
  }
 ],
 "metadata": {
  "kernelspec": {
   "display_name": "Python 3",
   "language": "python",
   "name": "python3"
  },
  "language_info": {
   "codemirror_mode": {
    "name": "ipython",
    "version": 3
   },
   "file_extension": ".py",
   "mimetype": "text/x-python",
   "name": "python",
   "nbconvert_exporter": "python",
   "pygments_lexer": "ipython3",
   "version": "3.5.1"
  }
 },
 "nbformat": 4,
 "nbformat_minor": 0
}
