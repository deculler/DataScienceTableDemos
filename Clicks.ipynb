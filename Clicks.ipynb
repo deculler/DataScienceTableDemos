{
 "cells": [
  {
   "cell_type": "code",
   "execution_count": 76,
   "metadata": {
    "collapsed": false
   },
   "outputs": [
    {
     "name": "stdout",
     "output_type": "stream",
     "text": [
      "The autoreload extension is already loaded. To reload it, use:\n",
      "  %reload_ext autoreload\n"
     ]
    }
   ],
   "source": [
    "# Hidden\n",
    "from datascience import *\n",
    "import matplotlib.pyplot as plots\n",
    "plots.style.use('fivethirtyeight')\n",
    "%matplotlib inline"
   ]
  },
  {
   "cell_type": "markdown",
   "metadata": {},
   "source": [
    "This workbook shows a example derived from the EDA exercise in Chapter 2 of Doing Data Science, by o'Neil abd Schutt"
   ]
  },
  {
   "cell_type": "code",
   "execution_count": 77,
   "metadata": {
    "collapsed": false
   },
   "outputs": [
    {
     "data": {
      "text/html": [
       "<table border=\"1\" class=\"dataframe\">\n",
       "    <thead>\n",
       "        <tr>\n",
       "            <th>Age</th> <th>Gender</th> <th>Impressions</th> <th>Clicks</th> <th>Signed_In</th>\n",
       "        </tr>\n",
       "    </thead>\n",
       "    <tbody>\n",
       "        <tr>\n",
       "            <td>36  </td> <td>0     </td> <td>3          </td> <td>0     </td> <td>1        </td>\n",
       "        </tr>\n",
       "    </tbody>\n",
       "        <tr>\n",
       "            <td>73  </td> <td>1     </td> <td>3          </td> <td>0     </td> <td>1        </td>\n",
       "        </tr>\n",
       "    </tbody>\n",
       "        <tr>\n",
       "            <td>30  </td> <td>0     </td> <td>3          </td> <td>0     </td> <td>1        </td>\n",
       "        </tr>\n",
       "    </tbody>\n",
       "        <tr>\n",
       "            <td>49  </td> <td>1     </td> <td>3          </td> <td>0     </td> <td>1        </td>\n",
       "        </tr>\n",
       "    </tbody>\n",
       "        <tr>\n",
       "            <td>47  </td> <td>1     </td> <td>11         </td> <td>0     </td> <td>1        </td>\n",
       "        </tr>\n",
       "    </tbody>\n",
       "        <tr>\n",
       "            <td>47  </td> <td>0     </td> <td>11         </td> <td>1     </td> <td>1        </td>\n",
       "        </tr>\n",
       "    </tbody>\n",
       "        <tr>\n",
       "            <td>0   </td> <td>0     </td> <td>7          </td> <td>1     </td> <td>0        </td>\n",
       "        </tr>\n",
       "    </tbody>\n",
       "        <tr>\n",
       "            <td>46  </td> <td>0     </td> <td>5          </td> <td>0     </td> <td>1        </td>\n",
       "        </tr>\n",
       "    </tbody>\n",
       "        <tr>\n",
       "            <td>16  </td> <td>0     </td> <td>3          </td> <td>0     </td> <td>1        </td>\n",
       "        </tr>\n",
       "    </tbody>\n",
       "        <tr>\n",
       "            <td>52  </td> <td>0     </td> <td>4          </td> <td>0     </td> <td>1        </td>\n",
       "        </tr>\n",
       "    </tbody>\n",
       "</table>\n",
       "<p>... (458431 rows omitted)</p"
      ],
      "text/plain": [
       "<Table(5 rows): | Age | Gender | Impressions | Clicks | Signed_In |>"
      ]
     },
     "execution_count": 77,
     "metadata": {},
     "output_type": "execute_result"
    }
   ],
   "source": [
    "clicks = Table.read_table(\"http://stat.columbia.edu/~rachel/datasets/nyt1.csv\")\n",
    "clicks"
   ]
  },
  {
   "cell_type": "markdown",
   "metadata": {},
   "source": [
    "Well.  Half a million rows.  That would be painful in excel."
   ]
  },
  {
   "cell_type": "markdown",
   "metadata": {},
   "source": [
    "Add a column of 1's, so that a sum will count people."
   ]
  },
  {
   "cell_type": "code",
   "execution_count": 78,
   "metadata": {
    "collapsed": false
   },
   "outputs": [
    {
     "data": {
      "text/plain": [
       "array(['0', '1-17', '18-24', '25-34', '35-44', '45-54', '55-64', '65+'], \n",
       "      dtype='<U5')"
      ]
     },
     "execution_count": 78,
     "metadata": {},
     "output_type": "execute_result"
    }
   ],
   "source": [
    "age_upper_bounds = [18, 25, 35, 45, 55, 65]\n",
    "\n",
    "def age_range(n):\n",
    "    if n == 0:\n",
    "        return '0'\n",
    "    lower = 1\n",
    "    for upper in age_upper_bounds:\n",
    "        if lower <= n < upper:\n",
    "            return str(lower) + '-' + str(upper-1)\n",
    "        lower = upper\n",
    "    return str(lower) + '+'\n",
    "\n",
    "np.unique([age_range(n) for n in range(100)])"
   ]
  },
  {
   "cell_type": "code",
   "execution_count": 79,
   "metadata": {
    "collapsed": false
   },
   "outputs": [
    {
     "data": {
      "text/html": [
       "<table border=\"1\" class=\"dataframe\">\n",
       "    <thead>\n",
       "        <tr>\n",
       "            <th>Age</th> <th>Gender</th> <th>Impressions</th> <th>Clicks</th> <th>Signed_In</th> <th>Age Range</th> <th>Person</th>\n",
       "        </tr>\n",
       "    </thead>\n",
       "    <tbody>\n",
       "        <tr>\n",
       "            <td>36  </td> <td>0     </td> <td>3          </td> <td>0     </td> <td>1        </td> <td>35-44    </td> <td>1     </td>\n",
       "        </tr>\n",
       "    </tbody>\n",
       "        <tr>\n",
       "            <td>73  </td> <td>1     </td> <td>3          </td> <td>0     </td> <td>1        </td> <td>65+      </td> <td>1     </td>\n",
       "        </tr>\n",
       "    </tbody>\n",
       "        <tr>\n",
       "            <td>30  </td> <td>0     </td> <td>3          </td> <td>0     </td> <td>1        </td> <td>25-34    </td> <td>1     </td>\n",
       "        </tr>\n",
       "    </tbody>\n",
       "        <tr>\n",
       "            <td>49  </td> <td>1     </td> <td>3          </td> <td>0     </td> <td>1        </td> <td>45-54    </td> <td>1     </td>\n",
       "        </tr>\n",
       "    </tbody>\n",
       "        <tr>\n",
       "            <td>47  </td> <td>1     </td> <td>11         </td> <td>0     </td> <td>1        </td> <td>45-54    </td> <td>1     </td>\n",
       "        </tr>\n",
       "    </tbody>\n",
       "        <tr>\n",
       "            <td>47  </td> <td>0     </td> <td>11         </td> <td>1     </td> <td>1        </td> <td>45-54    </td> <td>1     </td>\n",
       "        </tr>\n",
       "    </tbody>\n",
       "        <tr>\n",
       "            <td>0   </td> <td>0     </td> <td>7          </td> <td>1     </td> <td>0        </td> <td>0        </td> <td>1     </td>\n",
       "        </tr>\n",
       "    </tbody>\n",
       "        <tr>\n",
       "            <td>46  </td> <td>0     </td> <td>5          </td> <td>0     </td> <td>1        </td> <td>45-54    </td> <td>1     </td>\n",
       "        </tr>\n",
       "    </tbody>\n",
       "        <tr>\n",
       "            <td>16  </td> <td>0     </td> <td>3          </td> <td>0     </td> <td>1        </td> <td>1-17     </td> <td>1     </td>\n",
       "        </tr>\n",
       "    </tbody>\n",
       "        <tr>\n",
       "            <td>52  </td> <td>0     </td> <td>4          </td> <td>0     </td> <td>1        </td> <td>45-54    </td> <td>1     </td>\n",
       "        </tr>\n",
       "    </tbody>\n",
       "</table>\n",
       "<p>... (458431 rows omitted)</p"
      ],
      "text/plain": [
       "<Table(7 rows): | Age | Gender | Impressions | Clicks | Signed_In | Age Range | Person |>"
      ]
     },
     "execution_count": 79,
     "metadata": {},
     "output_type": "execute_result"
    }
   ],
   "source": [
    "clicks[\"Age Range\"] = clicks.apply(age_range, 'Age')\n",
    "clicks[\"Person\"] = 1\n",
    "clicks"
   ]
  },
  {
   "cell_type": "markdown",
   "metadata": {},
   "source": [
    "Now we can group the table by `Age Range` and count how many clicks come from each range."
   ]
  },
  {
   "cell_type": "code",
   "execution_count": 80,
   "metadata": {
    "collapsed": false
   },
   "outputs": [
    {
     "data": {
      "text/html": [
       "<table border=\"1\" class=\"dataframe\">\n",
       "    <thead>\n",
       "        <tr>\n",
       "            <th>Age Range</th> <th>Age sum</th> <th>Gender sum</th> <th>Impressions sum</th> <th>Clicks sum</th> <th>Signed_In sum</th> <th>Person sum</th>\n",
       "        </tr>\n",
       "    </thead>\n",
       "    <tbody>\n",
       "        <tr>\n",
       "            <td>0        </td> <td>0          </td> <td>0         </td> <td>685483         </td> <td>19480     </td> <td>0            </td> <td>137106    </td>\n",
       "        </tr>\n",
       "    </tbody>\n",
       "        <tr>\n",
       "            <td>1-17     </td> <td>211045     </td> <td>9470      </td> <td>69239          </td> <td>2065      </td> <td>13828        </td> <td>13828     </td>\n",
       "        </tr>\n",
       "    </tbody>\n",
       "        <tr>\n",
       "            <td>18-24    </td> <td>847791     </td> <td>21721     </td> <td>203585         </td> <td>2167      </td> <td>40694        </td> <td>40694     </td>\n",
       "        </tr>\n",
       "    </tbody>\n",
       "        <tr>\n",
       "            <td>25-34    </td> <td>1.71633E+06</td> <td>30958     </td> <td>290511         </td> <td>2937      </td> <td>58174        </td> <td>58174     </td>\n",
       "        </tr>\n",
       "    </tbody>\n",
       "        <tr>\n",
       "            <td>35-44    </td> <td>2.79859E+06</td> <td>37676     </td> <td>355824         </td> <td>3662      </td> <td>70860        </td> <td>70860     </td>\n",
       "        </tr>\n",
       "    </tbody>\n",
       "        <tr>\n",
       "            <td>45-54    </td> <td>3.18178E+06</td> <td>34007     </td> <td>322109         </td> <td>3232      </td> <td>64288        </td> <td>64288     </td>\n",
       "        </tr>\n",
       "    </tbody>\n",
       "        <tr>\n",
       "            <td>55-64    </td> <td>2.66183E+06</td> <td>23988     </td> <td>224688         </td> <td>4556      </td> <td>44738        </td> <td>44738     </td>\n",
       "        </tr>\n",
       "    </tbody>\n",
       "        <tr>\n",
       "            <td>65+      </td> <td>2.09864E+06</td> <td>10445     </td> <td>144120         </td> <td>4350      </td> <td>28753        </td> <td>28753     </td>\n",
       "        </tr>\n",
       "    </tbody>\n",
       "</table>"
      ],
      "text/plain": [
       "<Table(7 rows): | Age Range | Age sum | Gender sum | Impressions sum | Clicks sum | Signed_In sum | Person sum |>"
      ]
     },
     "execution_count": 80,
     "metadata": {},
     "output_type": "execute_result"
    }
   ],
   "source": [
    "clicks_by_age = clicks.group('Age Range', sum)\n",
    "clicks_by_age"
   ]
  },
  {
   "cell_type": "code",
   "execution_count": 81,
   "metadata": {
    "collapsed": false
   },
   "outputs": [
    {
     "data": {
      "image/png": "[encoded data removed]",
      "text/plain": [
       "<matplotlib.figure.Figure at 0x10a41f940>"
      ]
     },
     "metadata": {},
     "output_type": "display_data"
    }
   ],
   "source": [
    "clicks_by_age.select(['Age Range', 'Clicks sum', 'Impressions sum', 'Person sum']).barh('Age Range')"
   ]
  },
  {
   "cell_type": "markdown",
   "metadata": {},
   "source": [
    "Now we can do some other interesting summaries of these categories"
   ]
  },
  {
   "cell_type": "code",
   "execution_count": 82,
   "metadata": {
    "collapsed": false
   },
   "outputs": [
    {
     "data": {
      "text/html": [
       "<table border=\"1\" class=\"dataframe\">\n",
       "    <thead>\n",
       "        <tr>\n",
       "            <th>Age Range</th> <th>Person sum</th> <th>Gender Mix</th> <th>CTR</th>\n",
       "        </tr>\n",
       "    </thead>\n",
       "    <tbody>\n",
       "        <tr>\n",
       "            <td>0        </td> <td>137106    </td> <td>0         </td> <td>0.0284179</td>\n",
       "        </tr>\n",
       "    </tbody>\n",
       "        <tr>\n",
       "            <td>1-17     </td> <td>13828     </td> <td>0.684842  </td> <td>0.0298242</td>\n",
       "        </tr>\n",
       "    </tbody>\n",
       "        <tr>\n",
       "            <td>18-24    </td> <td>40694     </td> <td>0.533764  </td> <td>0.0106442</td>\n",
       "        </tr>\n",
       "    </tbody>\n",
       "        <tr>\n",
       "            <td>25-34    </td> <td>58174     </td> <td>0.532162  </td> <td>0.0101098</td>\n",
       "        </tr>\n",
       "    </tbody>\n",
       "        <tr>\n",
       "            <td>35-44    </td> <td>70860     </td> <td>0.531696  </td> <td>0.0102916</td>\n",
       "        </tr>\n",
       "    </tbody>\n",
       "        <tr>\n",
       "            <td>45-54    </td> <td>64288     </td> <td>0.528979  </td> <td>0.0100339</td>\n",
       "        </tr>\n",
       "    </tbody>\n",
       "        <tr>\n",
       "            <td>55-64    </td> <td>44738     </td> <td>0.536188  </td> <td>0.020277 </td>\n",
       "        </tr>\n",
       "    </tbody>\n",
       "        <tr>\n",
       "            <td>65+      </td> <td>28753     </td> <td>0.363266  </td> <td>0.0301832</td>\n",
       "        </tr>\n",
       "    </tbody>\n",
       "</table>"
      ],
      "text/plain": [
       "<Table(4 rows): | Age Range | Person sum | Gender Mix | CTR |>"
      ]
     },
     "execution_count": 82,
     "metadata": {},
     "output_type": "execute_result"
    }
   ],
   "source": [
    "clicks_by_age['Gender Mix'] = clicks_by_age['Gender sum'] / clicks_by_age['Person sum']\n",
    "clicks_by_age[\"CTR\"] = clicks_by_age['Clicks sum'] / clicks_by_age['Impressions sum']\n",
    "clicks_by_age.select(['Age Range', 'Person sum', 'Gender Mix', 'CTR'])"
   ]
  },
  {
   "cell_type": "code",
   "execution_count": 83,
   "metadata": {
    "collapsed": false
   },
   "outputs": [
    {
     "data": {
      "text/html": [
       "<table border=\"1\" class=\"dataframe\">\n",
       "    <thead>\n",
       "        <tr>\n",
       "            <th>Age Range</th> <th>Age sum</th> <th>Gender sum</th> <th>Impressions sum</th> <th>Clicks sum</th> <th>Signed_In sum</th> <th>Person sum</th> <th>Gender Mix</th> <th>CTR</th>\n",
       "        </tr>\n",
       "    </thead>\n",
       "    <tbody>\n",
       "        <tr>\n",
       "            <td>0        </td> <td>0          </td> <td>0         </td> <td>685483         </td> <td>19480     </td> <td>0            </td> <td>137106    </td> <td>0.0%</td> <td>2.84%</td>\n",
       "        </tr>\n",
       "    </tbody>\n",
       "        <tr>\n",
       "            <td>1-17     </td> <td>211045     </td> <td>9470      </td> <td>69239          </td> <td>2065      </td> <td>13828        </td> <td>13828     </td> <td>68.5%</td> <td>2.98%</td>\n",
       "        </tr>\n",
       "    </tbody>\n",
       "        <tr>\n",
       "            <td>18-24    </td> <td>847791     </td> <td>21721     </td> <td>203585         </td> <td>2167      </td> <td>40694        </td> <td>40694     </td> <td>53.4%</td> <td>1.06%</td>\n",
       "        </tr>\n",
       "    </tbody>\n",
       "        <tr>\n",
       "            <td>25-34    </td> <td>1.71633E+06</td> <td>30958     </td> <td>290511         </td> <td>2937      </td> <td>58174        </td> <td>58174     </td> <td>53.2%</td> <td>1.01%</td>\n",
       "        </tr>\n",
       "    </tbody>\n",
       "        <tr>\n",
       "            <td>35-44    </td> <td>2.79859E+06</td> <td>37676     </td> <td>355824         </td> <td>3662      </td> <td>70860        </td> <td>70860     </td> <td>53.2%</td> <td>1.03%</td>\n",
       "        </tr>\n",
       "    </tbody>\n",
       "        <tr>\n",
       "            <td>45-54    </td> <td>3.18178E+06</td> <td>34007     </td> <td>322109         </td> <td>3232      </td> <td>64288        </td> <td>64288     </td> <td>52.9%</td> <td>1.00%</td>\n",
       "        </tr>\n",
       "    </tbody>\n",
       "        <tr>\n",
       "            <td>55-64    </td> <td>2.66183E+06</td> <td>23988     </td> <td>224688         </td> <td>4556      </td> <td>44738        </td> <td>44738     </td> <td>53.6%</td> <td>2.03%</td>\n",
       "        </tr>\n",
       "    </tbody>\n",
       "        <tr>\n",
       "            <td>65+      </td> <td>2.09864E+06</td> <td>10445     </td> <td>144120         </td> <td>4350      </td> <td>28753        </td> <td>28753     </td> <td>36.3%</td> <td>3.02%</td>\n",
       "        </tr>\n",
       "    </tbody>\n",
       "</table>"
      ],
      "text/plain": [
       "<Table(9 rows): | Age Range | Age sum | Gender sum | Impressions sum | Clicks sum | Signed_In sum | Person sum | Gender Mix | CTR |>"
      ]
     },
     "execution_count": 83,
     "metadata": {},
     "output_type": "execute_result"
    }
   ],
   "source": [
    "clicks_by_age.set_format('Gender Mix', lambda x: \"{:.1%}\".format(x))\n",
    "clicks_by_age.set_format('CTR', lambda x: \"{:.2%}\".format(x))\n",
    "clicks_by_age"
   ]
  },
  {
   "cell_type": "markdown",
   "metadata": {},
   "source": [
    "We might want to do the click rate calculation a little more carefully.  We don't care about clicks where there are zero impressions or missing age/gender information.  So let's filter those out of our data set."
   ]
  },
  {
   "cell_type": "code",
   "execution_count": 84,
   "metadata": {
    "collapsed": false
   },
   "outputs": [
    {
     "data": {
      "text/html": [
       "<table border=\"1\" class=\"dataframe\">\n",
       "    <thead>\n",
       "        <tr>\n",
       "            <th>Age</th> <th>Gender</th> <th>Impressions</th> <th>Clicks</th> <th>Signed_In</th> <th>Age Range</th> <th>Person</th>\n",
       "        </tr>\n",
       "    </thead>\n",
       "    <tbody>\n",
       "        <tr>\n",
       "            <td>36  </td> <td>0     </td> <td>3          </td> <td>0     </td> <td>1        </td> <td>35-44    </td> <td>1     </td>\n",
       "        </tr>\n",
       "    </tbody>\n",
       "        <tr>\n",
       "            <td>73  </td> <td>1     </td> <td>3          </td> <td>0     </td> <td>1        </td> <td>65+      </td> <td>1     </td>\n",
       "        </tr>\n",
       "    </tbody>\n",
       "        <tr>\n",
       "            <td>30  </td> <td>0     </td> <td>3          </td> <td>0     </td> <td>1        </td> <td>25-34    </td> <td>1     </td>\n",
       "        </tr>\n",
       "    </tbody>\n",
       "        <tr>\n",
       "            <td>49  </td> <td>1     </td> <td>3          </td> <td>0     </td> <td>1        </td> <td>45-54    </td> <td>1     </td>\n",
       "        </tr>\n",
       "    </tbody>\n",
       "        <tr>\n",
       "            <td>47  </td> <td>1     </td> <td>11         </td> <td>0     </td> <td>1        </td> <td>45-54    </td> <td>1     </td>\n",
       "        </tr>\n",
       "    </tbody>\n",
       "        <tr>\n",
       "            <td>47  </td> <td>0     </td> <td>11         </td> <td>1     </td> <td>1        </td> <td>45-54    </td> <td>1     </td>\n",
       "        </tr>\n",
       "    </tbody>\n",
       "        <tr>\n",
       "            <td>46  </td> <td>0     </td> <td>5          </td> <td>0     </td> <td>1        </td> <td>45-54    </td> <td>1     </td>\n",
       "        </tr>\n",
       "    </tbody>\n",
       "        <tr>\n",
       "            <td>16  </td> <td>0     </td> <td>3          </td> <td>0     </td> <td>1        </td> <td>1-17     </td> <td>1     </td>\n",
       "        </tr>\n",
       "    </tbody>\n",
       "        <tr>\n",
       "            <td>52  </td> <td>0     </td> <td>4          </td> <td>0     </td> <td>1        </td> <td>45-54    </td> <td>1     </td>\n",
       "        </tr>\n",
       "    </tbody>\n",
       "        <tr>\n",
       "            <td>21  </td> <td>0     </td> <td>3          </td> <td>0     </td> <td>1        </td> <td>18-24    </td> <td>1     </td>\n",
       "        </tr>\n",
       "    </tbody>\n",
       "</table>\n",
       "<p>... (319188 rows omitted)</p"
      ],
      "text/plain": [
       "<Table(7 rows): | Age | Gender | Impressions | Clicks | Signed_In | Age Range | Person |>"
      ]
     },
     "execution_count": 84,
     "metadata": {},
     "output_type": "execute_result"
    }
   ],
   "source": [
    "impressed = clicks.where(clicks['Age'] > 0).where('Impressions')\n",
    "impressed"
   ]
  },
  {
   "cell_type": "code",
   "execution_count": 85,
   "metadata": {
    "collapsed": false
   },
   "outputs": [
    {
     "data": {
      "text/html": [
       "<table border=\"1\" class=\"dataframe\">\n",
       "    <thead>\n",
       "        <tr>\n",
       "            <th>Gender</th> <th>1-17 Impressions</th> <th>18-24 Impressions</th> <th>25-34 Impressions</th> <th>35-44 Impressions</th> <th>45-54 Impressions</th> <th>55-64 Impressions</th> <th>65+ Impressions</th>\n",
       "        </tr>\n",
       "    </thead>\n",
       "    <tbody>\n",
       "        <tr>\n",
       "            <td>0     </td> <td>21800           </td> <td>95057            </td> <td>136292           </td> <td>166324           </td> <td>151650           </td> <td>104220           </td> <td>91956          </td>\n",
       "        </tr>\n",
       "    </tbody>\n",
       "        <tr>\n",
       "            <td>1     </td> <td>47439           </td> <td>108528           </td> <td>154219           </td> <td>189500           </td> <td>170459           </td> <td>120468           </td> <td>52164          </td>\n",
       "        </tr>\n",
       "    </tbody>\n",
       "</table>"
      ],
      "text/plain": [
       "<Table(8 rows): | Gender | 1-17 Impressions | 18-24 Impressions | 25-34 Impressions | 35-44 Impressions | 45-54 Impressions | 55-64 Impressions | 65+ Impressions |>"
      ]
     },
     "execution_count": 85,
     "metadata": {},
     "output_type": "execute_result"
    }
   ],
   "source": [
    "impressed.pivot(rows='Gender', columns='Age Range', values='Impressions', collect=sum)"
   ]
  },
  {
   "cell_type": "code",
   "execution_count": 86,
   "metadata": {
    "collapsed": false
   },
   "outputs": [
    {
     "data": {
      "image/png": "[encoded data removed]",
      "text/plain": [
       "<matplotlib.figure.Figure at 0x10a471588>"
      ]
     },
     "metadata": {},
     "output_type": "display_data"
    }
   ],
   "source": [
    "distributions = impressed.pivot_hist('Age Range','Impressions')"
   ]
  },
  {
   "cell_type": "code",
   "execution_count": 87,
   "metadata": {
    "collapsed": false
   },
   "outputs": [
    {
     "data": {
      "text/html": [
       "<table border=\"1\" class=\"dataframe\">\n",
       "    <thead>\n",
       "        <tr>\n",
       "            <th>start</th> <th>end</th> <th>1-17</th> <th>18-24</th> <th>25-34</th> <th>35-44</th> <th>45-54</th> <th>55-64</th> <th>65+</th>\n",
       "        </tr>\n",
       "    </thead>\n",
       "    <tbody>\n",
       "        <tr>\n",
       "            <td>1    </td> <td>2.5 </td> <td>1674</td> <td>4833 </td> <td>6862 </td> <td>8206 </td> <td>7546 </td> <td>5183 </td> <td>3345 </td>\n",
       "        </tr>\n",
       "    </tbody>\n",
       "        <tr>\n",
       "            <td>2.5  </td> <td>4   </td> <td>1953</td> <td>5685 </td> <td>8140 </td> <td>9799 </td> <td>8924 </td> <td>6217 </td> <td>4056 </td>\n",
       "        </tr>\n",
       "    </tbody>\n",
       "        <tr>\n",
       "            <td>4    </td> <td>5.5 </td> <td>4795</td> <td>14172</td> <td>20633</td> <td>24967</td> <td>22622</td> <td>15722</td> <td>10063</td>\n",
       "        </tr>\n",
       "    </tbody>\n",
       "        <tr>\n",
       "            <td>5.5  </td> <td>7   </td> <td>1943</td> <td>5976 </td> <td>8470 </td> <td>10389</td> <td>9270 </td> <td>6634 </td> <td>4132 </td>\n",
       "        </tr>\n",
       "    </tbody>\n",
       "        <tr>\n",
       "            <td>7    </td> <td>8.5 </td> <td>2358</td> <td>6952 </td> <td>9801 </td> <td>12094</td> <td>11050</td> <td>7595 </td> <td>4957 </td>\n",
       "        </tr>\n",
       "    </tbody>\n",
       "        <tr>\n",
       "            <td>8.5  </td> <td>10  </td> <td>541 </td> <td>1504 </td> <td>2066 </td> <td>2606 </td> <td>2399 </td> <td>1691 </td> <td>1074 </td>\n",
       "        </tr>\n",
       "    </tbody>\n",
       "        <tr>\n",
       "            <td>10   </td> <td>11.5</td> <td>386 </td> <td>1069 </td> <td>1514 </td> <td>1963 </td> <td>1663 </td> <td>1169 </td> <td>761  </td>\n",
       "        </tr>\n",
       "    </tbody>\n",
       "        <tr>\n",
       "            <td>11.5 </td> <td>13  </td> <td>51  </td> <td>120  </td> <td>208  </td> <td>226  </td> <td>242  </td> <td>156  </td> <td>98   </td>\n",
       "        </tr>\n",
       "    </tbody>\n",
       "        <tr>\n",
       "            <td>13   </td> <td>14.5</td> <td>24  </td> <td>87   </td> <td>95   </td> <td>130  </td> <td>116  </td> <td>90   </td> <td>62   </td>\n",
       "        </tr>\n",
       "    </tbody>\n",
       "        <tr>\n",
       "            <td>14.5 </td> <td>16  </td> <td>7   </td> <td>8    </td> <td>11   </td> <td>12   </td> <td>12   </td> <td>5    </td> <td>8    </td>\n",
       "        </tr>\n",
       "    </tbody>\n",
       "</table>"
      ],
      "text/plain": [
       "<Table(9 rows): | start | end | 1-17 | 18-24 | 25-34 | 35-44 | 45-54 | 55-64 | 65+ |>"
      ]
     },
     "execution_count": 87,
     "metadata": {},
     "output_type": "execute_result"
    }
   ],
   "source": [
    "distributions"
   ]
  },
  {
   "cell_type": "code",
   "execution_count": 88,
   "metadata": {
    "collapsed": false
   },
   "outputs": [
    {
     "data": {
      "text/html": [
       "<table border=\"1\" class=\"dataframe\">\n",
       "    <thead>\n",
       "        <tr>\n",
       "            <th>Age</th> <th>Gender</th> <th>Impressions</th> <th>Clicks</th> <th>Signed_In</th> <th>Age Range</th> <th>Person</th> <th>Gen</th>\n",
       "        </tr>\n",
       "    </thead>\n",
       "    <tbody>\n",
       "        <tr>\n",
       "            <td>36  </td> <td>0     </td> <td>3          </td> <td>0     </td> <td>1        </td> <td>35-44    </td> <td>1     </td> <td>Male  </td>\n",
       "        </tr>\n",
       "    </tbody>\n",
       "        <tr>\n",
       "            <td>73  </td> <td>1     </td> <td>3          </td> <td>0     </td> <td>1        </td> <td>65+      </td> <td>1     </td> <td>Female</td>\n",
       "        </tr>\n",
       "    </tbody>\n",
       "        <tr>\n",
       "            <td>30  </td> <td>0     </td> <td>3          </td> <td>0     </td> <td>1        </td> <td>25-34    </td> <td>1     </td> <td>Male  </td>\n",
       "        </tr>\n",
       "    </tbody>\n",
       "        <tr>\n",
       "            <td>49  </td> <td>1     </td> <td>3          </td> <td>0     </td> <td>1        </td> <td>45-54    </td> <td>1     </td> <td>Female</td>\n",
       "        </tr>\n",
       "    </tbody>\n",
       "        <tr>\n",
       "            <td>47  </td> <td>1     </td> <td>11         </td> <td>0     </td> <td>1        </td> <td>45-54    </td> <td>1     </td> <td>Female</td>\n",
       "        </tr>\n",
       "    </tbody>\n",
       "        <tr>\n",
       "            <td>47  </td> <td>0     </td> <td>11         </td> <td>1     </td> <td>1        </td> <td>45-54    </td> <td>1     </td> <td>Male  </td>\n",
       "        </tr>\n",
       "    </tbody>\n",
       "        <tr>\n",
       "            <td>46  </td> <td>0     </td> <td>5          </td> <td>0     </td> <td>1        </td> <td>45-54    </td> <td>1     </td> <td>Male  </td>\n",
       "        </tr>\n",
       "    </tbody>\n",
       "        <tr>\n",
       "            <td>16  </td> <td>0     </td> <td>3          </td> <td>0     </td> <td>1        </td> <td>1-17     </td> <td>1     </td> <td>Male  </td>\n",
       "        </tr>\n",
       "    </tbody>\n",
       "        <tr>\n",
       "            <td>52  </td> <td>0     </td> <td>4          </td> <td>0     </td> <td>1        </td> <td>45-54    </td> <td>1     </td> <td>Male  </td>\n",
       "        </tr>\n",
       "    </tbody>\n",
       "        <tr>\n",
       "            <td>21  </td> <td>0     </td> <td>3          </td> <td>0     </td> <td>1        </td> <td>18-24    </td> <td>1     </td> <td>Male  </td>\n",
       "        </tr>\n",
       "    </tbody>\n",
       "</table>\n",
       "<p>... (319188 rows omitted)</p"
      ],
      "text/plain": [
       "<Table(8 rows): | Age | Gender | Impressions | Clicks | Signed_In | Age Range | Person | Gen |>"
      ]
     },
     "execution_count": 88,
     "metadata": {},
     "output_type": "execute_result"
    }
   ],
   "source": [
    "impressed['Gen'] = [['Male','Female'][i] for i in impressed['Gender']]\n",
    "impressed"
   ]
  },
  {
   "cell_type": "markdown",
   "metadata": {},
   "source": [
    "Group returns a new table.  If we wanted to specify the formats on columns of this table, assign it to a name."
   ]
  },
  {
   "cell_type": "code",
   "execution_count": 89,
   "metadata": {
    "collapsed": false
   },
   "outputs": [
    {
     "data": {
      "text/html": [
       "<table border=\"1\" class=\"dataframe\">\n",
       "    <thead>\n",
       "        <tr>\n",
       "            <th>Age Range</th> <th>Gender mean</th> <th>Clicks mean</th>\n",
       "        </tr>\n",
       "    </thead>\n",
       "    <tbody>\n",
       "        <tr>\n",
       "            <td>1-17     </td> <td>68.5%</td> <td>0.150</td>\n",
       "        </tr>\n",
       "    </tbody>\n",
       "        <tr>\n",
       "            <td>18-24    </td> <td>53.4%</td> <td>0.054</td>\n",
       "        </tr>\n",
       "    </tbody>\n",
       "        <tr>\n",
       "            <td>25-34    </td> <td>53.2%</td> <td>0.051</td>\n",
       "        </tr>\n",
       "    </tbody>\n",
       "        <tr>\n",
       "            <td>35-44    </td> <td>53.2%</td> <td>0.052</td>\n",
       "        </tr>\n",
       "    </tbody>\n",
       "        <tr>\n",
       "            <td>45-54    </td> <td>52.9%</td> <td>0.051</td>\n",
       "        </tr>\n",
       "    </tbody>\n",
       "        <tr>\n",
       "            <td>55-64    </td> <td>53.6%</td> <td>0.102</td>\n",
       "        </tr>\n",
       "    </tbody>\n",
       "        <tr>\n",
       "            <td>65+      </td> <td>36.3%</td> <td>0.152</td>\n",
       "        </tr>\n",
       "    </tbody>\n",
       "</table>"
      ],
      "text/plain": [
       "<Table(3 rows): | Age Range | Gender mean | Clicks mean |>"
      ]
     },
     "execution_count": 89,
     "metadata": {},
     "output_type": "execute_result"
    }
   ],
   "source": [
    "gi = impressed.group('Age Range', np.mean).select(['Age Range', 'Gender mean', 'Clicks mean'])\n",
    "gi.set_format('Gender mean', lambda x: \"{:.1%}\".format(x))\n",
    "gi.set_format('Clicks mean', lambda x: \"{:.3f}\".format(x))\n",
    "gi"
   ]
  },
  {
   "cell_type": "code",
   "execution_count": 93,
   "metadata": {
    "collapsed": false
   },
   "outputs": [
    {
     "data": {
      "text/html": [
       "<table border=\"1\" class=\"dataframe\">\n",
       "    <thead>\n",
       "        <tr>\n",
       "            <th>Gender</th> <th>1-17 Clicks</th> <th>18-24 Clicks</th> <th>25-34 Clicks</th> <th>35-44 Clicks</th> <th>45-54 Clicks</th> <th>55-64 Clicks</th> <th>65+ Clicks</th>\n",
       "        </tr>\n",
       "    </thead>\n",
       "    <tbody>\n",
       "        <tr>\n",
       "            <td>0     </td> <td>683        </td> <td>1002        </td> <td>1388        </td> <td>1707        </td> <td>1542        </td> <td>2105        </td> <td>2765      </td>\n",
       "        </tr>\n",
       "    </tbody>\n",
       "        <tr>\n",
       "            <td>1     </td> <td>1382       </td> <td>1165        </td> <td>1549        </td> <td>1955        </td> <td>1690        </td> <td>2451        </td> <td>1585      </td>\n",
       "        </tr>\n",
       "    </tbody>\n",
       "</table>"
      ],
      "text/plain": [
       "<Table(8 rows): | Gender | 1-17 Clicks | 18-24 Clicks | 25-34 Clicks | 35-44 Clicks | 45-54 Clicks | 55-64 Clicks | 65+ Clicks |>"
      ]
     },
     "execution_count": 93,
     "metadata": {},
     "output_type": "execute_result"
    }
   ],
   "source": [
    "impressed.pivot(\"Age Range\", \"Gender\", \"Clicks\",sum)"
   ]
  }
 ],
 "metadata": {
  "kernelspec": {
   "display_name": "Python 3",
   "language": "python",
   "name": "python3"
  },
  "language_info": {
   "codemirror_mode": {
    "name": "ipython",
    "version": 3
   },
   "file_extension": ".py",
   "mimetype": "text/x-python",
   "name": "python",
   "nbconvert_exporter": "python",
   "pygments_lexer": "ipython3",
   "version": "3.4.3"
  }
 },
 "nbformat": 4,
 "nbformat_minor": 0
}
