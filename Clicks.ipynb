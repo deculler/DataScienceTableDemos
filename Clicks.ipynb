{
 "cells": [
  {
   "cell_type": "code",
   "execution_count": 4,
   "metadata": {
    "collapsed": false
   },
   "outputs": [],
   "source": [
    "# Hidden\n",
    "from datascience import *\n",
    "import matplotlib.pyplot as plots\n",
    "import numpy as np\n",
    "plots.style.use('fivethirtyeight')\n",
    "%matplotlib inline"
   ]
  },
  {
   "cell_type": "markdown",
   "metadata": {},
   "source": [
    "This workbook shows a example derived from the EDA exercise in Chapter 2 of Doing Data Science, by o'Neil abd Schutt"
   ]
  },
  {
   "cell_type": "code",
   "execution_count": 5,
   "metadata": {
    "collapsed": false
   },
   "outputs": [
    {
     "data": {
      "text/html": [
       "<table border=\"1\" class=\"dataframe\">\n",
       "    <thead>\n",
       "        <tr>\n",
       "            <th>Age</th> <th>Gender</th> <th>Impressions</th> <th>Clicks</th> <th>Signed_In</th>\n",
       "        </tr>\n",
       "    </thead>\n",
       "    <tbody>\n",
       "        <tr>\n",
       "            <td>36  </td> <td>0     </td> <td>3          </td> <td>0     </td> <td>1        </td>\n",
       "        </tr>\n",
       "    </tbody>\n",
       "        <tr>\n",
       "            <td>73  </td> <td>1     </td> <td>3          </td> <td>0     </td> <td>1        </td>\n",
       "        </tr>\n",
       "    </tbody>\n",
       "        <tr>\n",
       "            <td>30  </td> <td>0     </td> <td>3          </td> <td>0     </td> <td>1        </td>\n",
       "        </tr>\n",
       "    </tbody>\n",
       "        <tr>\n",
       "            <td>49  </td> <td>1     </td> <td>3          </td> <td>0     </td> <td>1        </td>\n",
       "        </tr>\n",
       "    </tbody>\n",
       "        <tr>\n",
       "            <td>47  </td> <td>1     </td> <td>11         </td> <td>0     </td> <td>1        </td>\n",
       "        </tr>\n",
       "    </tbody>\n",
       "        <tr>\n",
       "            <td>47  </td> <td>0     </td> <td>11         </td> <td>1     </td> <td>1        </td>\n",
       "        </tr>\n",
       "    </tbody>\n",
       "        <tr>\n",
       "            <td>0   </td> <td>0     </td> <td>7          </td> <td>1     </td> <td>0        </td>\n",
       "        </tr>\n",
       "    </tbody>\n",
       "        <tr>\n",
       "            <td>46  </td> <td>0     </td> <td>5          </td> <td>0     </td> <td>1        </td>\n",
       "        </tr>\n",
       "    </tbody>\n",
       "        <tr>\n",
       "            <td>16  </td> <td>0     </td> <td>3          </td> <td>0     </td> <td>1        </td>\n",
       "        </tr>\n",
       "    </tbody>\n",
       "        <tr>\n",
       "            <td>52  </td> <td>0     </td> <td>4          </td> <td>0     </td> <td>1        </td>\n",
       "        </tr>\n",
       "    </tbody>\n",
       "</table>\n",
       "<p>... (458431 rows omitted)</p"
      ],
      "text/plain": [
       "Age  | Gender | Impressions | Clicks | Signed_In\n",
       "36   | 0      | 3           | 0      | 1\n",
       "73   | 1      | 3           | 0      | 1\n",
       "30   | 0      | 3           | 0      | 1\n",
       "49   | 1      | 3           | 0      | 1\n",
       "47   | 1      | 11          | 0      | 1\n",
       "47   | 0      | 11          | 1      | 1\n",
       "0    | 0      | 7           | 1      | 0\n",
       "46   | 0      | 5           | 0      | 1\n",
       "16   | 0      | 3           | 0      | 1\n",
       "52   | 0      | 4           | 0      | 1\n",
       "... (458431 rows omitted)"
      ]
     },
     "execution_count": 5,
     "metadata": {},
     "output_type": "execute_result"
    }
   ],
   "source": [
    "clicks = Table.read_table(\"http://stat.columbia.edu/~rachel/datasets/nyt1.csv\")\n",
    "clicks"
   ]
  },
  {
   "cell_type": "markdown",
   "metadata": {},
   "source": [
    "Well.  Half a million rows.  That would be painful in excel."
   ]
  },
  {
   "cell_type": "markdown",
   "metadata": {},
   "source": [
    "Add a column of 1's, so that a sum will count people."
   ]
  },
  {
   "cell_type": "code",
   "execution_count": 7,
   "metadata": {
    "collapsed": false
   },
   "outputs": [
    {
     "data": {
      "text/plain": [
       "array(['0', '1-17', '18-24', '25-34', '35-44', '45-54', '55-64', '65+'], \n",
       "      dtype='<U5')"
      ]
     },
     "execution_count": 7,
     "metadata": {},
     "output_type": "execute_result"
    }
   ],
   "source": [
    "age_upper_bounds = [18, 25, 35, 45, 55, 65]\n",
    "\n",
    "def age_range(n):\n",
    "    if n == 0:\n",
    "        return '0'\n",
    "    lower = 1\n",
    "    for upper in age_upper_bounds:\n",
    "        if lower <= n < upper:\n",
    "            return str(lower) + '-' + str(upper-1)\n",
    "        lower = upper\n",
    "    return str(lower) + '+'\n",
    "\n",
    "# a little test\n",
    "np.unique([age_range(n) for n in range(100)])"
   ]
  },
  {
   "cell_type": "code",
   "execution_count": 8,
   "metadata": {
    "collapsed": false
   },
   "outputs": [
    {
     "data": {
      "text/html": [
       "<table border=\"1\" class=\"dataframe\">\n",
       "    <thead>\n",
       "        <tr>\n",
       "            <th>Age</th> <th>Gender</th> <th>Impressions</th> <th>Clicks</th> <th>Signed_In</th> <th>Age Range</th> <th>Person</th>\n",
       "        </tr>\n",
       "    </thead>\n",
       "    <tbody>\n",
       "        <tr>\n",
       "            <td>36  </td> <td>0     </td> <td>3          </td> <td>0     </td> <td>1        </td> <td>35-44    </td> <td>1     </td>\n",
       "        </tr>\n",
       "    </tbody>\n",
       "        <tr>\n",
       "            <td>73  </td> <td>1     </td> <td>3          </td> <td>0     </td> <td>1        </td> <td>65+      </td> <td>1     </td>\n",
       "        </tr>\n",
       "    </tbody>\n",
       "        <tr>\n",
       "            <td>30  </td> <td>0     </td> <td>3          </td> <td>0     </td> <td>1        </td> <td>25-34    </td> <td>1     </td>\n",
       "        </tr>\n",
       "    </tbody>\n",
       "        <tr>\n",
       "            <td>49  </td> <td>1     </td> <td>3          </td> <td>0     </td> <td>1        </td> <td>45-54    </td> <td>1     </td>\n",
       "        </tr>\n",
       "    </tbody>\n",
       "        <tr>\n",
       "            <td>47  </td> <td>1     </td> <td>11         </td> <td>0     </td> <td>1        </td> <td>45-54    </td> <td>1     </td>\n",
       "        </tr>\n",
       "    </tbody>\n",
       "        <tr>\n",
       "            <td>47  </td> <td>0     </td> <td>11         </td> <td>1     </td> <td>1        </td> <td>45-54    </td> <td>1     </td>\n",
       "        </tr>\n",
       "    </tbody>\n",
       "        <tr>\n",
       "            <td>0   </td> <td>0     </td> <td>7          </td> <td>1     </td> <td>0        </td> <td>0        </td> <td>1     </td>\n",
       "        </tr>\n",
       "    </tbody>\n",
       "        <tr>\n",
       "            <td>46  </td> <td>0     </td> <td>5          </td> <td>0     </td> <td>1        </td> <td>45-54    </td> <td>1     </td>\n",
       "        </tr>\n",
       "    </tbody>\n",
       "        <tr>\n",
       "            <td>16  </td> <td>0     </td> <td>3          </td> <td>0     </td> <td>1        </td> <td>1-17     </td> <td>1     </td>\n",
       "        </tr>\n",
       "    </tbody>\n",
       "        <tr>\n",
       "            <td>52  </td> <td>0     </td> <td>4          </td> <td>0     </td> <td>1        </td> <td>45-54    </td> <td>1     </td>\n",
       "        </tr>\n",
       "    </tbody>\n",
       "</table>\n",
       "<p>... (458431 rows omitted)</p"
      ],
      "text/plain": [
       "Age  | Gender | Impressions | Clicks | Signed_In | Age Range | Person\n",
       "36   | 0      | 3           | 0      | 1         | 35-44     | 1\n",
       "73   | 1      | 3           | 0      | 1         | 65+       | 1\n",
       "30   | 0      | 3           | 0      | 1         | 25-34     | 1\n",
       "49   | 1      | 3           | 0      | 1         | 45-54     | 1\n",
       "47   | 1      | 11          | 0      | 1         | 45-54     | 1\n",
       "47   | 0      | 11          | 1      | 1         | 45-54     | 1\n",
       "0    | 0      | 7           | 1      | 0         | 0         | 1\n",
       "46   | 0      | 5           | 0      | 1         | 45-54     | 1\n",
       "16   | 0      | 3           | 0      | 1         | 1-17      | 1\n",
       "52   | 0      | 4           | 0      | 1         | 45-54     | 1\n",
       "... (458431 rows omitted)"
      ]
     },
     "execution_count": 8,
     "metadata": {},
     "output_type": "execute_result"
    }
   ],
   "source": [
    "clicks[\"Age Range\"] = clicks.apply(age_range, 'Age')\n",
    "clicks[\"Person\"] = 1\n",
    "clicks"
   ]
  },
  {
   "cell_type": "markdown",
   "metadata": {},
   "source": [
    "Now we can group the table by `Age Range` and count how many clicks come from each range."
   ]
  },
  {
   "cell_type": "code",
   "execution_count": 18,
   "metadata": {
    "collapsed": false
   },
   "outputs": [
    {
     "data": {
      "text/html": [
       "<table border=\"1\" class=\"dataframe\">\n",
       "    <thead>\n",
       "        <tr>\n",
       "            <th>Age Range</th> <th>Age sum</th> <th>Gender sum</th> <th>Impressions sum</th> <th>Clicks sum</th> <th>Signed_In sum</th> <th>Person sum</th>\n",
       "        </tr>\n",
       "    </thead>\n",
       "    <tbody>\n",
       "        <tr>\n",
       "            <td>0        </td> <td>0      </td> <td>0         </td> <td>685483         </td> <td>19480     </td> <td>0            </td> <td>137106    </td>\n",
       "        </tr>\n",
       "    </tbody>\n",
       "        <tr>\n",
       "            <td>1-17     </td> <td>211045 </td> <td>9470      </td> <td>69239          </td> <td>2065      </td> <td>13828        </td> <td>13828     </td>\n",
       "        </tr>\n",
       "    </tbody>\n",
       "        <tr>\n",
       "            <td>18-24    </td> <td>847791 </td> <td>21721     </td> <td>203585         </td> <td>2167      </td> <td>40694        </td> <td>40694     </td>\n",
       "        </tr>\n",
       "    </tbody>\n",
       "        <tr>\n",
       "            <td>25-34    </td> <td>1716328</td> <td>30958     </td> <td>290511         </td> <td>2937      </td> <td>58174        </td> <td>58174     </td>\n",
       "        </tr>\n",
       "    </tbody>\n",
       "        <tr>\n",
       "            <td>35-44    </td> <td>2798593</td> <td>37676     </td> <td>355824         </td> <td>3662      </td> <td>70860        </td> <td>70860     </td>\n",
       "        </tr>\n",
       "    </tbody>\n",
       "        <tr>\n",
       "            <td>45-54    </td> <td>3181779</td> <td>34007     </td> <td>322109         </td> <td>3232      </td> <td>64288        </td> <td>64288     </td>\n",
       "        </tr>\n",
       "    </tbody>\n",
       "        <tr>\n",
       "            <td>55-64    </td> <td>2661830</td> <td>23988     </td> <td>224688         </td> <td>4556      </td> <td>44738        </td> <td>44738     </td>\n",
       "        </tr>\n",
       "    </tbody>\n",
       "        <tr>\n",
       "            <td>65+      </td> <td>2098644</td> <td>10445     </td> <td>144120         </td> <td>4350      </td> <td>28753        </td> <td>28753     </td>\n",
       "        </tr>\n",
       "    </tbody>\n",
       "</table>"
      ],
      "text/plain": [
       "Age Range | Age sum | Gender sum | Impressions sum | Clicks sum | Signed_In sum | Person sum\n",
       "0         | 0       | 0          | 685483          | 19480      | 0             | 137106\n",
       "1-17      | 211045  | 9470       | 69239           | 2065       | 13828         | 13828\n",
       "18-24     | 847791  | 21721      | 203585          | 2167       | 40694         | 40694\n",
       "25-34     | 1716328 | 30958      | 290511          | 2937       | 58174         | 58174\n",
       "35-44     | 2798593 | 37676      | 355824          | 3662       | 70860         | 70860\n",
       "45-54     | 3181779 | 34007      | 322109          | 3232       | 64288         | 64288\n",
       "55-64     | 2661830 | 23988      | 224688          | 4556       | 44738         | 44738\n",
       "65+       | 2098644 | 10445      | 144120          | 4350       | 28753         | 28753"
      ]
     },
     "execution_count": 18,
     "metadata": {},
     "output_type": "execute_result"
    }
   ],
   "source": [
    "clicks_by_age = clicks.group('Age Range', sum)\n",
    "clicks_by_age"
   ]
  },
  {
   "cell_type": "code",
   "execution_count": 19,
   "metadata": {
    "collapsed": false
   },
   "outputs": [
    {
     "data": {
      "image/png": "[encoded data removed]",
      "text/plain": [
       "<matplotlib.figure.Figure at 0x110447ac8>"
      ]
     },
     "metadata": {},
     "output_type": "display_data"
    }
   ],
   "source": [
    "clicks_by_age.select(['Age Range', 'Clicks sum', 'Impressions sum', 'Person sum']).barh('Age Range')"
   ]
  },
  {
   "cell_type": "markdown",
   "metadata": {},
   "source": [
    "Now we can do some other interesting summaries of these categories"
   ]
  },
  {
   "cell_type": "code",
   "execution_count": 20,
   "metadata": {
    "collapsed": false
   },
   "outputs": [
    {
     "data": {
      "text/html": [
       "<table border=\"1\" class=\"dataframe\">\n",
       "    <thead>\n",
       "        <tr>\n",
       "            <th>Age Range</th> <th>Person sum</th> <th>Gender Mix</th> <th>CTR</th>\n",
       "        </tr>\n",
       "    </thead>\n",
       "    <tbody>\n",
       "        <tr>\n",
       "            <td>0        </td> <td>137106    </td> <td>0         </td> <td>0.0284179</td>\n",
       "        </tr>\n",
       "    </tbody>\n",
       "        <tr>\n",
       "            <td>1-17     </td> <td>13828     </td> <td>0.684842  </td> <td>0.0298242</td>\n",
       "        </tr>\n",
       "    </tbody>\n",
       "        <tr>\n",
       "            <td>18-24    </td> <td>40694     </td> <td>0.533764  </td> <td>0.0106442</td>\n",
       "        </tr>\n",
       "    </tbody>\n",
       "        <tr>\n",
       "            <td>25-34    </td> <td>58174     </td> <td>0.532162  </td> <td>0.0101098</td>\n",
       "        </tr>\n",
       "    </tbody>\n",
       "        <tr>\n",
       "            <td>35-44    </td> <td>70860     </td> <td>0.531696  </td> <td>0.0102916</td>\n",
       "        </tr>\n",
       "    </tbody>\n",
       "        <tr>\n",
       "            <td>45-54    </td> <td>64288     </td> <td>0.528979  </td> <td>0.0100339</td>\n",
       "        </tr>\n",
       "    </tbody>\n",
       "        <tr>\n",
       "            <td>55-64    </td> <td>44738     </td> <td>0.536188  </td> <td>0.020277 </td>\n",
       "        </tr>\n",
       "    </tbody>\n",
       "        <tr>\n",
       "            <td>65+      </td> <td>28753     </td> <td>0.363266  </td> <td>0.0301832</td>\n",
       "        </tr>\n",
       "    </tbody>\n",
       "</table>"
      ],
      "text/plain": [
       "Age Range | Person sum | Gender Mix | CTR\n",
       "0         | 137106     | 0          | 0.0284179\n",
       "1-17      | 13828      | 0.684842   | 0.0298242\n",
       "18-24     | 40694      | 0.533764   | 0.0106442\n",
       "25-34     | 58174      | 0.532162   | 0.0101098\n",
       "35-44     | 70860      | 0.531696   | 0.0102916\n",
       "45-54     | 64288      | 0.528979   | 0.0100339\n",
       "55-64     | 44738      | 0.536188   | 0.020277\n",
       "65+       | 28753      | 0.363266   | 0.0301832"
      ]
     },
     "execution_count": 20,
     "metadata": {},
     "output_type": "execute_result"
    }
   ],
   "source": [
    "clicks_by_age['Gender Mix'] = clicks_by_age['Gender sum'] / clicks_by_age['Person sum']\n",
    "clicks_by_age[\"CTR\"] = clicks_by_age['Clicks sum'] / clicks_by_age['Impressions sum']\n",
    "clicks_by_age.select(['Age Range', 'Person sum', 'Gender Mix', 'CTR'])"
   ]
  },
  {
   "cell_type": "code",
   "execution_count": 26,
   "metadata": {
    "collapsed": false
   },
   "outputs": [
    {
     "data": {
      "text/html": [
       "<table border=\"1\" class=\"dataframe\">\n",
       "    <thead>\n",
       "        <tr>\n",
       "            <th>Age Range</th> <th>Age sum</th> <th>Gender sum</th> <th>Impressions sum</th> <th>Clicks sum</th> <th>Signed_In sum</th> <th>Person sum</th> <th>Gender Mix</th> <th>CTR</th>\n",
       "        </tr>\n",
       "    </thead>\n",
       "    <tbody>\n",
       "        <tr>\n",
       "            <td>0        </td> <td>0      </td> <td>0         </td> <td>685483         </td> <td>19480     </td> <td>0            </td> <td>137106    </td> <td>0.0%      </td> <td>2.84%</td>\n",
       "        </tr>\n",
       "    </tbody>\n",
       "        <tr>\n",
       "            <td>1-17     </td> <td>211045 </td> <td>9470      </td> <td>69239          </td> <td>2065      </td> <td>13828        </td> <td>13828     </td> <td>68.5%     </td> <td>2.98%</td>\n",
       "        </tr>\n",
       "    </tbody>\n",
       "        <tr>\n",
       "            <td>18-24    </td> <td>847791 </td> <td>21721     </td> <td>203585         </td> <td>2167      </td> <td>40694        </td> <td>40694     </td> <td>53.4%     </td> <td>1.06%</td>\n",
       "        </tr>\n",
       "    </tbody>\n",
       "        <tr>\n",
       "            <td>25-34    </td> <td>1716328</td> <td>30958     </td> <td>290511         </td> <td>2937      </td> <td>58174        </td> <td>58174     </td> <td>53.2%     </td> <td>1.01%</td>\n",
       "        </tr>\n",
       "    </tbody>\n",
       "        <tr>\n",
       "            <td>35-44    </td> <td>2798593</td> <td>37676     </td> <td>355824         </td> <td>3662      </td> <td>70860        </td> <td>70860     </td> <td>53.2%     </td> <td>1.03%</td>\n",
       "        </tr>\n",
       "    </tbody>\n",
       "        <tr>\n",
       "            <td>45-54    </td> <td>3181779</td> <td>34007     </td> <td>322109         </td> <td>3232      </td> <td>64288        </td> <td>64288     </td> <td>52.9%     </td> <td>1.00%</td>\n",
       "        </tr>\n",
       "    </tbody>\n",
       "        <tr>\n",
       "            <td>55-64    </td> <td>2661830</td> <td>23988     </td> <td>224688         </td> <td>4556      </td> <td>44738        </td> <td>44738     </td> <td>53.6%     </td> <td>2.03%</td>\n",
       "        </tr>\n",
       "    </tbody>\n",
       "        <tr>\n",
       "            <td>65+      </td> <td>2098644</td> <td>10445     </td> <td>144120         </td> <td>4350      </td> <td>28753        </td> <td>28753     </td> <td>36.3%     </td> <td>3.02%</td>\n",
       "        </tr>\n",
       "    </tbody>\n",
       "</table>"
      ],
      "text/plain": [
       "Age Range | Age sum | Gender sum | Impressions sum | Clicks sum | Signed_In sum | Person sum | Gender Mix | CTR\n",
       "0         | 0       | 0          | 685483          | 19480      | 0             | 137106     | 0.0%       | 2.84%\n",
       "1-17      | 211045  | 9470       | 69239           | 2065       | 13828         | 13828      | 68.5%      | 2.98%\n",
       "18-24     | 847791  | 21721      | 203585          | 2167       | 40694         | 40694      | 53.4%      | 1.06%\n",
       "25-34     | 1716328 | 30958      | 290511          | 2937       | 58174         | 58174      | 53.2%      | 1.01%\n",
       "35-44     | 2798593 | 37676      | 355824          | 3662       | 70860         | 70860      | 53.2%      | 1.03%\n",
       "45-54     | 3181779 | 34007      | 322109          | 3232       | 64288         | 64288      | 52.9%      | 1.00%\n",
       "55-64     | 2661830 | 23988      | 224688          | 4556       | 44738         | 44738      | 53.6%      | 2.03%\n",
       "65+       | 2098644 | 10445      | 144120          | 4350       | 28753         | 28753      | 36.3%      | 3.02%"
      ]
     },
     "execution_count": 26,
     "metadata": {},
     "output_type": "execute_result"
    }
   ],
   "source": [
    "# Format some columns as percent with limited precision\n",
    "clicks_by_age.set_format('Gender Mix', PercentFormatter(1))\n",
    "clicks_by_age.set_format('CTR', PercentFormatter(2))\n",
    "clicks_by_age"
   ]
  },
  {
   "cell_type": "markdown",
   "metadata": {},
   "source": [
    "We might want to do the click rate calculation a little more carefully.  We don't care about clicks where there are zero impressions or missing age/gender information.  So let's filter those out of our data set."
   ]
  },
  {
   "cell_type": "code",
   "execution_count": 27,
   "metadata": {
    "collapsed": false
   },
   "outputs": [
    {
     "data": {
      "text/html": [
       "<table border=\"1\" class=\"dataframe\">\n",
       "    <thead>\n",
       "        <tr>\n",
       "            <th>Age</th> <th>Gender</th> <th>Impressions</th> <th>Clicks</th> <th>Signed_In</th> <th>Age Range</th> <th>Person</th>\n",
       "        </tr>\n",
       "    </thead>\n",
       "    <tbody>\n",
       "        <tr>\n",
       "            <td>36  </td> <td>0     </td> <td>3          </td> <td>0     </td> <td>1        </td> <td>35-44    </td> <td>1     </td>\n",
       "        </tr>\n",
       "    </tbody>\n",
       "        <tr>\n",
       "            <td>73  </td> <td>1     </td> <td>3          </td> <td>0     </td> <td>1        </td> <td>65+      </td> <td>1     </td>\n",
       "        </tr>\n",
       "    </tbody>\n",
       "        <tr>\n",
       "            <td>30  </td> <td>0     </td> <td>3          </td> <td>0     </td> <td>1        </td> <td>25-34    </td> <td>1     </td>\n",
       "        </tr>\n",
       "    </tbody>\n",
       "        <tr>\n",
       "            <td>49  </td> <td>1     </td> <td>3          </td> <td>0     </td> <td>1        </td> <td>45-54    </td> <td>1     </td>\n",
       "        </tr>\n",
       "    </tbody>\n",
       "        <tr>\n",
       "            <td>47  </td> <td>1     </td> <td>11         </td> <td>0     </td> <td>1        </td> <td>45-54    </td> <td>1     </td>\n",
       "        </tr>\n",
       "    </tbody>\n",
       "        <tr>\n",
       "            <td>47  </td> <td>0     </td> <td>11         </td> <td>1     </td> <td>1        </td> <td>45-54    </td> <td>1     </td>\n",
       "        </tr>\n",
       "    </tbody>\n",
       "        <tr>\n",
       "            <td>46  </td> <td>0     </td> <td>5          </td> <td>0     </td> <td>1        </td> <td>45-54    </td> <td>1     </td>\n",
       "        </tr>\n",
       "    </tbody>\n",
       "        <tr>\n",
       "            <td>16  </td> <td>0     </td> <td>3          </td> <td>0     </td> <td>1        </td> <td>1-17     </td> <td>1     </td>\n",
       "        </tr>\n",
       "    </tbody>\n",
       "        <tr>\n",
       "            <td>52  </td> <td>0     </td> <td>4          </td> <td>0     </td> <td>1        </td> <td>45-54    </td> <td>1     </td>\n",
       "        </tr>\n",
       "    </tbody>\n",
       "        <tr>\n",
       "            <td>21  </td> <td>0     </td> <td>3          </td> <td>0     </td> <td>1        </td> <td>18-24    </td> <td>1     </td>\n",
       "        </tr>\n",
       "    </tbody>\n",
       "</table>\n",
       "<p>... (319188 rows omitted)</p"
      ],
      "text/plain": [
       "Age  | Gender | Impressions | Clicks | Signed_In | Age Range | Person\n",
       "36   | 0      | 3           | 0      | 1         | 35-44     | 1\n",
       "73   | 1      | 3           | 0      | 1         | 65+       | 1\n",
       "30   | 0      | 3           | 0      | 1         | 25-34     | 1\n",
       "49   | 1      | 3           | 0      | 1         | 45-54     | 1\n",
       "47   | 1      | 11          | 0      | 1         | 45-54     | 1\n",
       "47   | 0      | 11          | 1      | 1         | 45-54     | 1\n",
       "46   | 0      | 5           | 0      | 1         | 45-54     | 1\n",
       "16   | 0      | 3           | 0      | 1         | 1-17      | 1\n",
       "52   | 0      | 4           | 0      | 1         | 45-54     | 1\n",
       "21   | 0      | 3           | 0      | 1         | 18-24     | 1\n",
       "... (319188 rows omitted)"
      ]
     },
     "execution_count": 27,
     "metadata": {},
     "output_type": "execute_result"
    }
   ],
   "source": [
    "impressed = clicks.where(clicks['Age'] > 0).where('Impressions')\n",
    "impressed"
   ]
  },
  {
   "cell_type": "code",
   "execution_count": 32,
   "metadata": {
    "collapsed": false
   },
   "outputs": [
    {
     "data": {
      "text/html": [
       "<table border=\"1\" class=\"dataframe\">\n",
       "    <thead>\n",
       "        <tr>\n",
       "            <th>Gender</th> <th>1-17</th> <th>18-24</th> <th>25-34</th> <th>35-44</th> <th>45-54</th> <th>55-64</th> <th>65+</th>\n",
       "        </tr>\n",
       "    </thead>\n",
       "    <tbody>\n",
       "        <tr>\n",
       "            <td>0     </td> <td>21800</td> <td>95057 </td> <td>136292</td> <td>166324</td> <td>151650</td> <td>104220</td> <td>91956</td>\n",
       "        </tr>\n",
       "    </tbody>\n",
       "        <tr>\n",
       "            <td>1     </td> <td>47439</td> <td>108528</td> <td>154219</td> <td>189500</td> <td>170459</td> <td>120468</td> <td>52164</td>\n",
       "        </tr>\n",
       "    </tbody>\n",
       "</table>"
      ],
      "text/plain": [
       "Gender | 1-17  | 18-24  | 25-34  | 35-44  | 45-54  | 55-64  | 65+\n",
       "0      | 21800 | 95057  | 136292 | 166324 | 151650 | 104220 | 91956\n",
       "1      | 47439 | 108528 | 154219 | 189500 | 170459 | 120468 | 52164"
      ]
     },
     "execution_count": 32,
     "metadata": {},
     "output_type": "execute_result"
    }
   ],
   "source": [
    "# Impressions by age and gender\n",
    "impressed.pivot(rows='Gender', columns='Age Range', values='Impressions', collect=sum)"
   ]
  },
  {
   "cell_type": "code",
   "execution_count": 39,
   "metadata": {
    "collapsed": false
   },
   "outputs": [
    {
     "data": {
      "text/html": [
       "<table border=\"1\" class=\"dataframe\">\n",
       "    <thead>\n",
       "        <tr>\n",
       "            <th>Gender</th> <th>1-17</th> <th>18-24</th> <th>25-34</th> <th>35-44</th> <th>45-54</th> <th>55-64</th> <th>65+</th>\n",
       "        </tr>\n",
       "    </thead>\n",
       "    <tbody>\n",
       "        <tr>\n",
       "            <td>0     </td> <td>683 </td> <td>1002 </td> <td>1388 </td> <td>1707 </td> <td>1542 </td> <td>2105 </td> <td>2765</td>\n",
       "        </tr>\n",
       "    </tbody>\n",
       "        <tr>\n",
       "            <td>1     </td> <td>1382</td> <td>1165 </td> <td>1549 </td> <td>1955 </td> <td>1690 </td> <td>2451 </td> <td>1585</td>\n",
       "        </tr>\n",
       "    </tbody>\n",
       "</table>"
      ],
      "text/plain": [
       "Gender | 1-17 | 18-24 | 25-34 | 35-44 | 45-54 | 55-64 | 65+\n",
       "0      | 683  | 1002  | 1388  | 1707  | 1542  | 2105  | 2765\n",
       "1      | 1382 | 1165  | 1549  | 1955  | 1690  | 2451  | 1585"
      ]
     },
     "execution_count": 39,
     "metadata": {},
     "output_type": "execute_result"
    }
   ],
   "source": [
    "impressed.pivot(\"Age Range\", \"Gender\", \"Clicks\",sum)"
   ]
  },
  {
   "cell_type": "code",
   "execution_count": 40,
   "metadata": {
    "collapsed": false
   },
   "outputs": [
    {
     "data": {
      "image/png": "[encoded data removed]",
      "text/plain": [
       "<matplotlib.figure.Figure at 0x11cdc3668>"
      ]
     },
     "metadata": {},
     "output_type": "display_data"
    }
   ],
   "source": [
    "impressed.pivot_hist('Age Range','Impressions')"
   ]
  },
  {
   "cell_type": "code",
   "execution_count": 34,
   "metadata": {
    "collapsed": false
   },
   "outputs": [
    {
     "data": {
      "text/html": [
       "<table border=\"1\" class=\"dataframe\">\n",
       "    <thead>\n",
       "        <tr>\n",
       "            <th>bin</th> <th>1-17</th> <th>18-24</th> <th>25-34</th> <th>35-44</th> <th>45-54</th> <th>55-64</th> <th>65+</th>\n",
       "        </tr>\n",
       "    </thead>\n",
       "    <tbody>\n",
       "        <tr>\n",
       "            <td>1   </td> <td>1674</td> <td>4833 </td> <td>6862 </td> <td>8206 </td> <td>7546 </td> <td>5183 </td> <td>3345</td>\n",
       "        </tr>\n",
       "    </tbody>\n",
       "        <tr>\n",
       "            <td>2.9 </td> <td>4345</td> <td>12833</td> <td>18382</td> <td>22260</td> <td>20230</td> <td>14025</td> <td>9131</td>\n",
       "        </tr>\n",
       "    </tbody>\n",
       "        <tr>\n",
       "            <td>4.8 </td> <td>4346</td> <td>13000</td> <td>18861</td> <td>22895</td> <td>20586</td> <td>14548</td> <td>9120</td>\n",
       "        </tr>\n",
       "    </tbody>\n",
       "        <tr>\n",
       "            <td>6.7 </td> <td>2358</td> <td>6952 </td> <td>9801 </td> <td>12094</td> <td>11050</td> <td>7595 </td> <td>4957</td>\n",
       "        </tr>\n",
       "    </tbody>\n",
       "        <tr>\n",
       "            <td>8.6 </td> <td>799 </td> <td>2237 </td> <td>3117 </td> <td>3981 </td> <td>3517 </td> <td>2486 </td> <td>1607</td>\n",
       "        </tr>\n",
       "    </tbody>\n",
       "        <tr>\n",
       "            <td>10.5</td> <td>179 </td> <td>456  </td> <td>671  </td> <td>814  </td> <td>787  </td> <td>530  </td> <td>326 </td>\n",
       "        </tr>\n",
       "    </tbody>\n",
       "        <tr>\n",
       "            <td>12.4</td> <td>24  </td> <td>87   </td> <td>95   </td> <td>130  </td> <td>116  </td> <td>90   </td> <td>62  </td>\n",
       "        </tr>\n",
       "    </tbody>\n",
       "        <tr>\n",
       "            <td>14.3</td> <td>7   </td> <td>8    </td> <td>11   </td> <td>12   </td> <td>12   </td> <td>5    </td> <td>8   </td>\n",
       "        </tr>\n",
       "    </tbody>\n",
       "        <tr>\n",
       "            <td>16.2</td> <td>0   </td> <td>2    </td> <td>1    </td> <td>1    </td> <td>1    </td> <td>0    </td> <td>0   </td>\n",
       "        </tr>\n",
       "    </tbody>\n",
       "        <tr>\n",
       "            <td>18.1</td> <td>0   </td> <td>0    </td> <td>0    </td> <td>1    </td> <td>0    </td> <td>0    </td> <td>0   </td>\n",
       "        </tr>\n",
       "    </tbody>\n",
       "</table>\n",
       "<p>... (1 rows omitted)</p"
      ],
      "text/plain": [
       "bin  | 1-17 | 18-24 | 25-34 | 35-44 | 45-54 | 55-64 | 65+\n",
       "1    | 1674 | 4833  | 6862  | 8206  | 7546  | 5183  | 3345\n",
       "2.9  | 4345 | 12833 | 18382 | 22260 | 20230 | 14025 | 9131\n",
       "4.8  | 4346 | 13000 | 18861 | 22895 | 20586 | 14548 | 9120\n",
       "6.7  | 2358 | 6952  | 9801  | 12094 | 11050 | 7595  | 4957\n",
       "8.6  | 799  | 2237  | 3117  | 3981  | 3517  | 2486  | 1607\n",
       "10.5 | 179  | 456   | 671   | 814   | 787   | 530   | 326\n",
       "12.4 | 24   | 87    | 95    | 130   | 116   | 90    | 62\n",
       "14.3 | 7    | 8     | 11    | 12    | 12    | 5     | 8\n",
       "16.2 | 0    | 2     | 1     | 1     | 1     | 0     | 0\n",
       "18.1 | 0    | 0     | 0     | 1     | 0     | 0     | 0\n",
       "... (1 rows omitted)"
      ]
     },
     "execution_count": 34,
     "metadata": {},
     "output_type": "execute_result"
    }
   ],
   "source": [
    "distributions = impressed.pivot_bin('Age Range','Impressions')\n",
    "distributions"
   ]
  },
  {
   "cell_type": "code",
   "execution_count": 35,
   "metadata": {
    "collapsed": false
   },
   "outputs": [
    {
     "data": {
      "text/html": [
       "<table border=\"1\" class=\"dataframe\">\n",
       "    <thead>\n",
       "        <tr>\n",
       "            <th>Age</th> <th>Gender</th> <th>Impressions</th> <th>Clicks</th> <th>Signed_In</th> <th>Age Range</th> <th>Person</th> <th>Gen</th>\n",
       "        </tr>\n",
       "    </thead>\n",
       "    <tbody>\n",
       "        <tr>\n",
       "            <td>36  </td> <td>0     </td> <td>3          </td> <td>0     </td> <td>1        </td> <td>35-44    </td> <td>1     </td> <td>Male  </td>\n",
       "        </tr>\n",
       "    </tbody>\n",
       "        <tr>\n",
       "            <td>73  </td> <td>1     </td> <td>3          </td> <td>0     </td> <td>1        </td> <td>65+      </td> <td>1     </td> <td>Female</td>\n",
       "        </tr>\n",
       "    </tbody>\n",
       "        <tr>\n",
       "            <td>30  </td> <td>0     </td> <td>3          </td> <td>0     </td> <td>1        </td> <td>25-34    </td> <td>1     </td> <td>Male  </td>\n",
       "        </tr>\n",
       "    </tbody>\n",
       "        <tr>\n",
       "            <td>49  </td> <td>1     </td> <td>3          </td> <td>0     </td> <td>1        </td> <td>45-54    </td> <td>1     </td> <td>Female</td>\n",
       "        </tr>\n",
       "    </tbody>\n",
       "        <tr>\n",
       "            <td>47  </td> <td>1     </td> <td>11         </td> <td>0     </td> <td>1        </td> <td>45-54    </td> <td>1     </td> <td>Female</td>\n",
       "        </tr>\n",
       "    </tbody>\n",
       "        <tr>\n",
       "            <td>47  </td> <td>0     </td> <td>11         </td> <td>1     </td> <td>1        </td> <td>45-54    </td> <td>1     </td> <td>Male  </td>\n",
       "        </tr>\n",
       "    </tbody>\n",
       "        <tr>\n",
       "            <td>46  </td> <td>0     </td> <td>5          </td> <td>0     </td> <td>1        </td> <td>45-54    </td> <td>1     </td> <td>Male  </td>\n",
       "        </tr>\n",
       "    </tbody>\n",
       "        <tr>\n",
       "            <td>16  </td> <td>0     </td> <td>3          </td> <td>0     </td> <td>1        </td> <td>1-17     </td> <td>1     </td> <td>Male  </td>\n",
       "        </tr>\n",
       "    </tbody>\n",
       "        <tr>\n",
       "            <td>52  </td> <td>0     </td> <td>4          </td> <td>0     </td> <td>1        </td> <td>45-54    </td> <td>1     </td> <td>Male  </td>\n",
       "        </tr>\n",
       "    </tbody>\n",
       "        <tr>\n",
       "            <td>21  </td> <td>0     </td> <td>3          </td> <td>0     </td> <td>1        </td> <td>18-24    </td> <td>1     </td> <td>Male  </td>\n",
       "        </tr>\n",
       "    </tbody>\n",
       "</table>\n",
       "<p>... (319188 rows omitted)</p"
      ],
      "text/plain": [
       "Age  | Gender | Impressions | Clicks | Signed_In | Age Range | Person | Gen\n",
       "36   | 0      | 3           | 0      | 1         | 35-44     | 1      | Male\n",
       "73   | 1      | 3           | 0      | 1         | 65+       | 1      | Female\n",
       "30   | 0      | 3           | 0      | 1         | 25-34     | 1      | Male\n",
       "49   | 1      | 3           | 0      | 1         | 45-54     | 1      | Female\n",
       "47   | 1      | 11          | 0      | 1         | 45-54     | 1      | Female\n",
       "47   | 0      | 11          | 1      | 1         | 45-54     | 1      | Male\n",
       "46   | 0      | 5           | 0      | 1         | 45-54     | 1      | Male\n",
       "16   | 0      | 3           | 0      | 1         | 1-17      | 1      | Male\n",
       "52   | 0      | 4           | 0      | 1         | 45-54     | 1      | Male\n",
       "21   | 0      | 3           | 0      | 1         | 18-24     | 1      | Male\n",
       "... (319188 rows omitted)"
      ]
     },
     "execution_count": 35,
     "metadata": {},
     "output_type": "execute_result"
    }
   ],
   "source": [
    "impressed['Gen'] = [['Male','Female'][i] for i in impressed['Gender']]\n",
    "impressed"
   ]
  },
  {
   "cell_type": "markdown",
   "metadata": {},
   "source": [
    "Group returns a new table.  If we wanted to specify the formats on columns of this table, assign it to a name."
   ]
  },
  {
   "cell_type": "code",
   "execution_count": 38,
   "metadata": {
    "collapsed": false
   },
   "outputs": [
    {
     "data": {
      "text/html": [
       "<table border=\"1\" class=\"dataframe\">\n",
       "    <thead>\n",
       "        <tr>\n",
       "            <th>Age Range</th> <th>Gender mean</th> <th>Clicks mean</th>\n",
       "        </tr>\n",
       "    </thead>\n",
       "    <tbody>\n",
       "        <tr>\n",
       "            <td>1-17     </td> <td>68.45%     </td> <td>15.04%     </td>\n",
       "        </tr>\n",
       "    </tbody>\n",
       "        <tr>\n",
       "            <td>18-24    </td> <td>53.40%     </td> <td>5.36%      </td>\n",
       "        </tr>\n",
       "    </tbody>\n",
       "        <tr>\n",
       "            <td>25-34    </td> <td>53.20%     </td> <td>5.08%      </td>\n",
       "        </tr>\n",
       "    </tbody>\n",
       "        <tr>\n",
       "            <td>35-44    </td> <td>53.17%     </td> <td>5.20%      </td>\n",
       "        </tr>\n",
       "    </tbody>\n",
       "        <tr>\n",
       "            <td>45-54    </td> <td>52.92%     </td> <td>5.06%      </td>\n",
       "        </tr>\n",
       "    </tbody>\n",
       "        <tr>\n",
       "            <td>55-64    </td> <td>53.60%     </td> <td>10.25%     </td>\n",
       "        </tr>\n",
       "    </tbody>\n",
       "        <tr>\n",
       "            <td>65+      </td> <td>36.33%     </td> <td>15.23%     </td>\n",
       "        </tr>\n",
       "    </tbody>\n",
       "</table>"
      ],
      "text/plain": [
       "Age Range | Gender mean | Clicks mean\n",
       "1-17      | 68.45%      | 15.04%\n",
       "18-24     | 53.40%      | 5.36%\n",
       "25-34     | 53.20%      | 5.08%\n",
       "35-44     | 53.17%      | 5.20%\n",
       "45-54     | 52.92%      | 5.06%\n",
       "55-64     | 53.60%      | 10.25%\n",
       "65+       | 36.33%      | 15.23%"
      ]
     },
     "execution_count": 38,
     "metadata": {},
     "output_type": "execute_result"
    }
   ],
   "source": [
    "# How does gender and clicks vary with age?\n",
    "gi = impressed.group('Age Range', np.mean).select(['Age Range', 'Gender mean', 'Clicks mean'])\n",
    "gi.set_format(['Gender mean', 'Clicks mean'], PercentFormatter)\n",
    "gi"
   ]
  },
  {
   "cell_type": "code",
   "execution_count": null,
   "metadata": {
    "collapsed": true
   },
   "outputs": [],
   "source": []
  }
 ],
 "metadata": {
  "kernelspec": {
   "display_name": "Python 3",
   "language": "python",
   "name": "python3"
  },
  "language_info": {
   "codemirror_mode": {
    "name": "ipython",
    "version": 3
   },
   "file_extension": ".py",
   "mimetype": "text/x-python",
   "name": "python",
   "nbconvert_exporter": "python",
   "pygments_lexer": "ipython3",
   "version": "3.5.1"
  }
 },
 "nbformat": 4,
 "nbformat_minor": 0
}
